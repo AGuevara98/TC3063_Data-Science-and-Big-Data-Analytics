{
 "cells": [
  {
   "cell_type": "markdown",
   "metadata": {},
   "source": [
    "# Classwork 10: Classification with pyspark "
   ]
  },
  {
   "cell_type": "markdown",
   "metadata": {
    "id": "hthNZIW4ztnQ"
   },
   "source": [
    "# Initialize and load data"
   ]
  },
  {
   "cell_type": "code",
   "execution_count": null,
   "metadata": {
    "id": "OqlI8YujIx6v"
   },
   "outputs": [],
   "source": [
    "!apt-get install openjdk-8-jdk-headless -qq > /dev/null\n",
    "!wget -q https://downloads.apache.org/spark/spark-2.4.8/spark-2.4.8-bin-hadoop2.7.tgz\n",
    "!tar xf spark-2.4.8-bin-hadoop2.7.tgz\n",
    "!pip install -q findspark"
   ]
  },
  {
   "cell_type": "code",
   "execution_count": null,
   "metadata": {
    "id": "o4aPKSGjJeTn"
   },
   "outputs": [],
   "source": [
    "#All imports\n",
    "import os\n",
    "os.environ[\"JAVA_HOME\"] = \"/usr/lib/jvm/java-8-openjdk-amd64\"\n",
    "os.environ[\"SPARK_HOME\"] = \"/content/spark-2.4.8-bin-hadoop2.7\""
   ]
  },
  {
   "cell_type": "code",
   "execution_count": null,
   "metadata": {
    "id": "w8u__t9LRaPR"
   },
   "outputs": [],
   "source": [
    "import pandas as pd \n",
    "import numpy as np"
   ]
  },
  {
   "cell_type": "code",
   "execution_count": null,
   "metadata": {
    "id": "Vi3JP5IkJi-l"
   },
   "outputs": [],
   "source": [
    "import findspark\n",
    "findspark.init()# SPARK_HOME\n",
    "from pyspark.sql import SparkSession\n",
    "spark = SparkSession.builder.master(\"local[*]\").getOrCreate()"
   ]
  },
  {
   "cell_type": "code",
   "execution_count": null,
   "metadata": {
    "colab": {
     "base_uri": "https://localhost:8080/",
     "height": 236
    },
    "id": "w6iZMbe3ROuT",
    "outputId": "c09f92cc-8c95-4836-cbc7-fe4c1235316e"
   },
   "outputs": [
    {
     "data": {
      "text/html": [
       "\n",
       "  <div id=\"df-9cb62a7e-3659-4fb1-924f-2359e4b13a27\">\n",
       "    <div class=\"colab-df-container\">\n",
       "      <div>\n",
       "<style scoped>\n",
       "    .dataframe tbody tr th:only-of-type {\n",
       "        vertical-align: middle;\n",
       "    }\n",
       "\n",
       "    .dataframe tbody tr th {\n",
       "        vertical-align: top;\n",
       "    }\n",
       "\n",
       "    .dataframe thead th {\n",
       "        text-align: right;\n",
       "    }\n",
       "</style>\n",
       "<table border=\"1\" class=\"dataframe\">\n",
       "  <thead>\n",
       "    <tr style=\"text-align: right;\">\n",
       "      <th></th>\n",
       "      <th>Numero</th>\n",
       "      <th>V2</th>\n",
       "      <th>V3</th>\n",
       "      <th>V4</th>\n",
       "      <th>V5</th>\n",
       "      <th>V6</th>\n",
       "      <th>V7</th>\n",
       "      <th>V8</th>\n",
       "      <th>V9</th>\n",
       "      <th>V10</th>\n",
       "      <th>...</th>\n",
       "      <th>V248</th>\n",
       "      <th>V249</th>\n",
       "      <th>V250</th>\n",
       "      <th>V251</th>\n",
       "      <th>V252</th>\n",
       "      <th>V253</th>\n",
       "      <th>V254</th>\n",
       "      <th>V255</th>\n",
       "      <th>V256</th>\n",
       "      <th>V257</th>\n",
       "    </tr>\n",
       "  </thead>\n",
       "  <tbody>\n",
       "    <tr>\n",
       "      <th>0</th>\n",
       "      <td>seis</td>\n",
       "      <td>-1.0</td>\n",
       "      <td>-1.0</td>\n",
       "      <td>-1.0</td>\n",
       "      <td>-1.000</td>\n",
       "      <td>-1.000</td>\n",
       "      <td>-1.000</td>\n",
       "      <td>-1.000</td>\n",
       "      <td>-0.631</td>\n",
       "      <td>0.862</td>\n",
       "      <td>...</td>\n",
       "      <td>0.304</td>\n",
       "      <td>0.823</td>\n",
       "      <td>1.000</td>\n",
       "      <td>0.482</td>\n",
       "      <td>-0.474</td>\n",
       "      <td>-0.991</td>\n",
       "      <td>-1.000</td>\n",
       "      <td>-1.000</td>\n",
       "      <td>-1.000</td>\n",
       "      <td>-1.0</td>\n",
       "    </tr>\n",
       "    <tr>\n",
       "      <th>1</th>\n",
       "      <td>cinco</td>\n",
       "      <td>-1.0</td>\n",
       "      <td>-1.0</td>\n",
       "      <td>-1.0</td>\n",
       "      <td>-0.813</td>\n",
       "      <td>-0.671</td>\n",
       "      <td>-0.809</td>\n",
       "      <td>-0.887</td>\n",
       "      <td>-0.671</td>\n",
       "      <td>-0.853</td>\n",
       "      <td>...</td>\n",
       "      <td>-0.671</td>\n",
       "      <td>-0.671</td>\n",
       "      <td>-0.033</td>\n",
       "      <td>0.761</td>\n",
       "      <td>0.762</td>\n",
       "      <td>0.126</td>\n",
       "      <td>-0.095</td>\n",
       "      <td>-0.671</td>\n",
       "      <td>-0.828</td>\n",
       "      <td>-1.0</td>\n",
       "    </tr>\n",
       "    <tr>\n",
       "      <th>2</th>\n",
       "      <td>cuatro</td>\n",
       "      <td>-1.0</td>\n",
       "      <td>-1.0</td>\n",
       "      <td>-1.0</td>\n",
       "      <td>-1.000</td>\n",
       "      <td>-1.000</td>\n",
       "      <td>-1.000</td>\n",
       "      <td>-1.000</td>\n",
       "      <td>-1.000</td>\n",
       "      <td>-1.000</td>\n",
       "      <td>...</td>\n",
       "      <td>-1.000</td>\n",
       "      <td>-1.000</td>\n",
       "      <td>-1.000</td>\n",
       "      <td>-0.109</td>\n",
       "      <td>1.000</td>\n",
       "      <td>-0.179</td>\n",
       "      <td>-1.000</td>\n",
       "      <td>-1.000</td>\n",
       "      <td>-1.000</td>\n",
       "      <td>-1.0</td>\n",
       "    </tr>\n",
       "    <tr>\n",
       "      <th>3</th>\n",
       "      <td>siete</td>\n",
       "      <td>-1.0</td>\n",
       "      <td>-1.0</td>\n",
       "      <td>-1.0</td>\n",
       "      <td>-1.000</td>\n",
       "      <td>-1.000</td>\n",
       "      <td>-0.273</td>\n",
       "      <td>0.684</td>\n",
       "      <td>0.960</td>\n",
       "      <td>0.450</td>\n",
       "      <td>...</td>\n",
       "      <td>-0.318</td>\n",
       "      <td>1.000</td>\n",
       "      <td>0.536</td>\n",
       "      <td>-0.987</td>\n",
       "      <td>-1.000</td>\n",
       "      <td>-1.000</td>\n",
       "      <td>-1.000</td>\n",
       "      <td>-1.000</td>\n",
       "      <td>-1.000</td>\n",
       "      <td>-1.0</td>\n",
       "    </tr>\n",
       "    <tr>\n",
       "      <th>4</th>\n",
       "      <td>tres</td>\n",
       "      <td>-1.0</td>\n",
       "      <td>-1.0</td>\n",
       "      <td>-1.0</td>\n",
       "      <td>-1.000</td>\n",
       "      <td>-1.000</td>\n",
       "      <td>-0.928</td>\n",
       "      <td>-0.204</td>\n",
       "      <td>0.751</td>\n",
       "      <td>0.466</td>\n",
       "      <td>...</td>\n",
       "      <td>0.466</td>\n",
       "      <td>0.639</td>\n",
       "      <td>1.000</td>\n",
       "      <td>1.000</td>\n",
       "      <td>0.791</td>\n",
       "      <td>0.439</td>\n",
       "      <td>-0.199</td>\n",
       "      <td>-0.883</td>\n",
       "      <td>-1.000</td>\n",
       "      <td>-1.0</td>\n",
       "    </tr>\n",
       "  </tbody>\n",
       "</table>\n",
       "<p>5 rows × 257 columns</p>\n",
       "</div>\n",
       "      <button class=\"colab-df-convert\" onclick=\"convertToInteractive('df-9cb62a7e-3659-4fb1-924f-2359e4b13a27')\"\n",
       "              title=\"Convert this dataframe to an interactive table.\"\n",
       "              style=\"display:none;\">\n",
       "        \n",
       "  <svg xmlns=\"http://www.w3.org/2000/svg\" height=\"24px\"viewBox=\"0 0 24 24\"\n",
       "       width=\"24px\">\n",
       "    <path d=\"M0 0h24v24H0V0z\" fill=\"none\"/>\n",
       "    <path d=\"M18.56 5.44l.94 2.06.94-2.06 2.06-.94-2.06-.94-.94-2.06-.94 2.06-2.06.94zm-11 1L8.5 8.5l.94-2.06 2.06-.94-2.06-.94L8.5 2.5l-.94 2.06-2.06.94zm10 10l.94 2.06.94-2.06 2.06-.94-2.06-.94-.94-2.06-.94 2.06-2.06.94z\"/><path d=\"M17.41 7.96l-1.37-1.37c-.4-.4-.92-.59-1.43-.59-.52 0-1.04.2-1.43.59L10.3 9.45l-7.72 7.72c-.78.78-.78 2.05 0 2.83L4 21.41c.39.39.9.59 1.41.59.51 0 1.02-.2 1.41-.59l7.78-7.78 2.81-2.81c.8-.78.8-2.07 0-2.86zM5.41 20L4 18.59l7.72-7.72 1.47 1.35L5.41 20z\"/>\n",
       "  </svg>\n",
       "      </button>\n",
       "      \n",
       "  <style>\n",
       "    .colab-df-container {\n",
       "      display:flex;\n",
       "      flex-wrap:wrap;\n",
       "      gap: 12px;\n",
       "    }\n",
       "\n",
       "    .colab-df-convert {\n",
       "      background-color: #E8F0FE;\n",
       "      border: none;\n",
       "      border-radius: 50%;\n",
       "      cursor: pointer;\n",
       "      display: none;\n",
       "      fill: #1967D2;\n",
       "      height: 32px;\n",
       "      padding: 0 0 0 0;\n",
       "      width: 32px;\n",
       "    }\n",
       "\n",
       "    .colab-df-convert:hover {\n",
       "      background-color: #E2EBFA;\n",
       "      box-shadow: 0px 1px 2px rgba(60, 64, 67, 0.3), 0px 1px 3px 1px rgba(60, 64, 67, 0.15);\n",
       "      fill: #174EA6;\n",
       "    }\n",
       "\n",
       "    [theme=dark] .colab-df-convert {\n",
       "      background-color: #3B4455;\n",
       "      fill: #D2E3FC;\n",
       "    }\n",
       "\n",
       "    [theme=dark] .colab-df-convert:hover {\n",
       "      background-color: #434B5C;\n",
       "      box-shadow: 0px 1px 3px 1px rgba(0, 0, 0, 0.15);\n",
       "      filter: drop-shadow(0px 1px 2px rgba(0, 0, 0, 0.3));\n",
       "      fill: #FFFFFF;\n",
       "    }\n",
       "  </style>\n",
       "\n",
       "      <script>\n",
       "        const buttonEl =\n",
       "          document.querySelector('#df-9cb62a7e-3659-4fb1-924f-2359e4b13a27 button.colab-df-convert');\n",
       "        buttonEl.style.display =\n",
       "          google.colab.kernel.accessAllowed ? 'block' : 'none';\n",
       "\n",
       "        async function convertToInteractive(key) {\n",
       "          const element = document.querySelector('#df-9cb62a7e-3659-4fb1-924f-2359e4b13a27');\n",
       "          const dataTable =\n",
       "            await google.colab.kernel.invokeFunction('convertToInteractive',\n",
       "                                                     [key], {});\n",
       "          if (!dataTable) return;\n",
       "\n",
       "          const docLinkHtml = 'Like what you see? Visit the ' +\n",
       "            '<a target=\"_blank\" href=https://colab.research.google.com/notebooks/data_table.ipynb>data table notebook</a>'\n",
       "            + ' to learn more about interactive tables.';\n",
       "          element.innerHTML = '';\n",
       "          dataTable['output_type'] = 'display_data';\n",
       "          await google.colab.output.renderOutput(dataTable, element);\n",
       "          const docLink = document.createElement('div');\n",
       "          docLink.innerHTML = docLinkHtml;\n",
       "          element.appendChild(docLink);\n",
       "        }\n",
       "      </script>\n",
       "    </div>\n",
       "  </div>\n",
       "  "
      ],
      "text/plain": [
       "   Numero   V2   V3   V4     V5     V6     V7     V8     V9    V10  ...  \\\n",
       "0    seis -1.0 -1.0 -1.0 -1.000 -1.000 -1.000 -1.000 -0.631  0.862  ...   \n",
       "1   cinco -1.0 -1.0 -1.0 -0.813 -0.671 -0.809 -0.887 -0.671 -0.853  ...   \n",
       "2  cuatro -1.0 -1.0 -1.0 -1.000 -1.000 -1.000 -1.000 -1.000 -1.000  ...   \n",
       "3   siete -1.0 -1.0 -1.0 -1.000 -1.000 -0.273  0.684  0.960  0.450  ...   \n",
       "4    tres -1.0 -1.0 -1.0 -1.000 -1.000 -0.928 -0.204  0.751  0.466  ...   \n",
       "\n",
       "    V248   V249   V250   V251   V252   V253   V254   V255   V256  V257  \n",
       "0  0.304  0.823  1.000  0.482 -0.474 -0.991 -1.000 -1.000 -1.000  -1.0  \n",
       "1 -0.671 -0.671 -0.033  0.761  0.762  0.126 -0.095 -0.671 -0.828  -1.0  \n",
       "2 -1.000 -1.000 -1.000 -0.109  1.000 -0.179 -1.000 -1.000 -1.000  -1.0  \n",
       "3 -0.318  1.000  0.536 -0.987 -1.000 -1.000 -1.000 -1.000 -1.000  -1.0  \n",
       "4  0.466  0.639  1.000  1.000  0.791  0.439 -0.199 -0.883 -1.000  -1.0  \n",
       "\n",
       "[5 rows x 257 columns]"
      ]
     },
     "execution_count": 5,
     "metadata": {},
     "output_type": "execute_result"
    }
   ],
   "source": [
    "df = pd.read_csv('ZipData_2020.csv',sep=';')\n",
    "df.head()\n"
   ]
  },
  {
   "cell_type": "code",
   "execution_count": null,
   "metadata": {
    "colab": {
     "base_uri": "https://localhost:8080/"
    },
    "id": "IXLiTS6xuPmy",
    "outputId": "67335774-8255-468b-ab9e-b7f5389f15a0"
   },
   "outputs": [
    {
     "data": {
      "text/plain": [
       "array(['seis', 'cinco', 'cuatro', 'siete', 'tres', 'uno', 'cero', 'ocho',\n",
       "       'dos', 'nueve'], dtype=object)"
      ]
     },
     "execution_count": 6,
     "metadata": {},
     "output_type": "execute_result"
    }
   ],
   "source": [
    "df['Numero'].unique()"
   ]
  },
  {
   "cell_type": "code",
   "execution_count": null,
   "metadata": {
    "id": "AumWaBUMtMnn"
   },
   "outputs": [],
   "source": [
    "# antes de cargar a df_spark, modificaremos la entrada de números para que sea un entero que pueda interpretar el clustering\n",
    "\n",
    "df['Numero'] = df['Numero'].replace({'cero' : 0, 'uno' : 1,'dos' : 2, 'tres' : 3, 'cuatro' : 4, 'cinco' : 5, 'seis' : 6,  'siete' : 7,  'ocho' : 8,  'nueve' : 9})"
   ]
  },
  {
   "cell_type": "code",
   "execution_count": null,
   "metadata": {
    "colab": {
     "base_uri": "https://localhost:8080/"
    },
    "id": "_U6IkRL5mdr4",
    "outputId": "023428dc-9962-4377-a135-472c3d378b1e"
   },
   "outputs": [
    {
     "data": {
      "text/plain": [
       "(9298, 257)"
      ]
     },
     "execution_count": 8,
     "metadata": {},
     "output_type": "execute_result"
    }
   ],
   "source": [
    "df=df.dropna()\n",
    "df.shape"
   ]
  },
  {
   "cell_type": "code",
   "execution_count": null,
   "metadata": {
    "colab": {
     "base_uri": "https://localhost:8080/"
    },
    "id": "8poJDeNYmYUM",
    "outputId": "31aaf5b3-b32f-4b64-dedc-112c0acfe41e"
   },
   "outputs": [
    {
     "data": {
      "text/plain": [
       "Numero      int64\n",
       "V2        float64\n",
       "V3        float64\n",
       "V4        float64\n",
       "V5        float64\n",
       "           ...   \n",
       "V253      float64\n",
       "V254      float64\n",
       "V255      float64\n",
       "V256      float64\n",
       "V257      float64\n",
       "Length: 257, dtype: object"
      ]
     },
     "execution_count": 9,
     "metadata": {},
     "output_type": "execute_result"
    }
   ],
   "source": [
    "df.dtypes"
   ]
  },
  {
   "cell_type": "code",
   "execution_count": null,
   "metadata": {
    "colab": {
     "base_uri": "https://localhost:8080/"
    },
    "id": "9gSxvtM6NRiy",
    "outputId": "e830c29c-5a31-411d-ff8b-f013b31fa146"
   },
   "outputs": [
    {
     "name": "stdout",
     "output_type": "stream",
     "text": [
      "root\n",
      " |-- Numero: long (nullable = true)\n",
      " |-- V2: double (nullable = true)\n",
      " |-- V3: double (nullable = true)\n",
      " |-- V4: double (nullable = true)\n",
      " |-- V5: double (nullable = true)\n",
      " |-- V6: double (nullable = true)\n",
      " |-- V7: double (nullable = true)\n",
      " |-- V8: double (nullable = true)\n",
      " |-- V9: double (nullable = true)\n",
      " |-- V10: double (nullable = true)\n",
      " |-- V11: double (nullable = true)\n",
      " |-- V12: double (nullable = true)\n",
      " |-- V13: double (nullable = true)\n",
      " |-- V14: double (nullable = true)\n",
      " |-- V15: double (nullable = true)\n",
      " |-- V16: double (nullable = true)\n",
      " |-- V17: double (nullable = true)\n",
      " |-- V18: double (nullable = true)\n",
      " |-- V19: double (nullable = true)\n",
      " |-- V20: double (nullable = true)\n",
      " |-- V21: double (nullable = true)\n",
      " |-- V22: double (nullable = true)\n",
      " |-- V23: double (nullable = true)\n",
      " |-- V24: double (nullable = true)\n",
      " |-- V25: double (nullable = true)\n",
      " |-- V26: double (nullable = true)\n",
      " |-- V27: double (nullable = true)\n",
      " |-- V28: double (nullable = true)\n",
      " |-- V29: double (nullable = true)\n",
      " |-- V30: double (nullable = true)\n",
      " |-- V31: double (nullable = true)\n",
      " |-- V32: double (nullable = true)\n",
      " |-- V33: double (nullable = true)\n",
      " |-- V34: double (nullable = true)\n",
      " |-- V35: double (nullable = true)\n",
      " |-- V36: double (nullable = true)\n",
      " |-- V37: double (nullable = true)\n",
      " |-- V38: double (nullable = true)\n",
      " |-- V39: double (nullable = true)\n",
      " |-- V40: double (nullable = true)\n",
      " |-- V41: double (nullable = true)\n",
      " |-- V42: double (nullable = true)\n",
      " |-- V43: double (nullable = true)\n",
      " |-- V44: double (nullable = true)\n",
      " |-- V45: double (nullable = true)\n",
      " |-- V46: double (nullable = true)\n",
      " |-- V47: double (nullable = true)\n",
      " |-- V48: double (nullable = true)\n",
      " |-- V49: double (nullable = true)\n",
      " |-- V50: double (nullable = true)\n",
      " |-- V51: double (nullable = true)\n",
      " |-- V52: double (nullable = true)\n",
      " |-- V53: double (nullable = true)\n",
      " |-- V54: double (nullable = true)\n",
      " |-- V55: double (nullable = true)\n",
      " |-- V56: double (nullable = true)\n",
      " |-- V57: double (nullable = true)\n",
      " |-- V58: double (nullable = true)\n",
      " |-- V59: double (nullable = true)\n",
      " |-- V60: double (nullable = true)\n",
      " |-- V61: double (nullable = true)\n",
      " |-- V62: double (nullable = true)\n",
      " |-- V63: double (nullable = true)\n",
      " |-- V64: double (nullable = true)\n",
      " |-- V65: double (nullable = true)\n",
      " |-- V66: double (nullable = true)\n",
      " |-- V67: double (nullable = true)\n",
      " |-- V68: double (nullable = true)\n",
      " |-- V69: double (nullable = true)\n",
      " |-- V70: double (nullable = true)\n",
      " |-- V71: double (nullable = true)\n",
      " |-- V72: double (nullable = true)\n",
      " |-- V73: double (nullable = true)\n",
      " |-- V74: double (nullable = true)\n",
      " |-- V75: double (nullable = true)\n",
      " |-- V76: double (nullable = true)\n",
      " |-- V77: double (nullable = true)\n",
      " |-- V78: double (nullable = true)\n",
      " |-- V79: double (nullable = true)\n",
      " |-- V80: double (nullable = true)\n",
      " |-- V81: double (nullable = true)\n",
      " |-- V82: double (nullable = true)\n",
      " |-- V83: double (nullable = true)\n",
      " |-- V84: double (nullable = true)\n",
      " |-- V85: double (nullable = true)\n",
      " |-- V86: double (nullable = true)\n",
      " |-- V87: double (nullable = true)\n",
      " |-- V88: double (nullable = true)\n",
      " |-- V89: double (nullable = true)\n",
      " |-- V90: double (nullable = true)\n",
      " |-- V91: double (nullable = true)\n",
      " |-- V92: double (nullable = true)\n",
      " |-- V93: double (nullable = true)\n",
      " |-- V94: double (nullable = true)\n",
      " |-- V95: double (nullable = true)\n",
      " |-- V96: double (nullable = true)\n",
      " |-- V97: double (nullable = true)\n",
      " |-- V98: double (nullable = true)\n",
      " |-- V99: double (nullable = true)\n",
      " |-- V100: double (nullable = true)\n",
      " |-- V101: double (nullable = true)\n",
      " |-- V102: double (nullable = true)\n",
      " |-- V103: double (nullable = true)\n",
      " |-- V104: double (nullable = true)\n",
      " |-- V105: double (nullable = true)\n",
      " |-- V106: double (nullable = true)\n",
      " |-- V107: double (nullable = true)\n",
      " |-- V108: double (nullable = true)\n",
      " |-- V109: double (nullable = true)\n",
      " |-- V110: double (nullable = true)\n",
      " |-- V111: double (nullable = true)\n",
      " |-- V112: double (nullable = true)\n",
      " |-- V113: double (nullable = true)\n",
      " |-- V114: double (nullable = true)\n",
      " |-- V115: double (nullable = true)\n",
      " |-- V116: double (nullable = true)\n",
      " |-- V117: double (nullable = true)\n",
      " |-- V118: double (nullable = true)\n",
      " |-- V119: double (nullable = true)\n",
      " |-- V120: double (nullable = true)\n",
      " |-- V121: double (nullable = true)\n",
      " |-- V122: double (nullable = true)\n",
      " |-- V123: double (nullable = true)\n",
      " |-- V124: double (nullable = true)\n",
      " |-- V125: double (nullable = true)\n",
      " |-- V126: double (nullable = true)\n",
      " |-- V127: double (nullable = true)\n",
      " |-- V128: double (nullable = true)\n",
      " |-- V129: double (nullable = true)\n",
      " |-- V130: double (nullable = true)\n",
      " |-- V131: double (nullable = true)\n",
      " |-- V132: double (nullable = true)\n",
      " |-- V133: double (nullable = true)\n",
      " |-- V134: double (nullable = true)\n",
      " |-- V135: double (nullable = true)\n",
      " |-- V136: double (nullable = true)\n",
      " |-- V137: double (nullable = true)\n",
      " |-- V138: double (nullable = true)\n",
      " |-- V139: double (nullable = true)\n",
      " |-- V140: double (nullable = true)\n",
      " |-- V141: double (nullable = true)\n",
      " |-- V142: double (nullable = true)\n",
      " |-- V143: double (nullable = true)\n",
      " |-- V144: double (nullable = true)\n",
      " |-- V145: double (nullable = true)\n",
      " |-- V146: double (nullable = true)\n",
      " |-- V147: double (nullable = true)\n",
      " |-- V148: double (nullable = true)\n",
      " |-- V149: double (nullable = true)\n",
      " |-- V150: double (nullable = true)\n",
      " |-- V151: double (nullable = true)\n",
      " |-- V152: double (nullable = true)\n",
      " |-- V153: double (nullable = true)\n",
      " |-- V154: double (nullable = true)\n",
      " |-- V155: double (nullable = true)\n",
      " |-- V156: double (nullable = true)\n",
      " |-- V157: double (nullable = true)\n",
      " |-- V158: double (nullable = true)\n",
      " |-- V159: double (nullable = true)\n",
      " |-- V160: double (nullable = true)\n",
      " |-- V161: double (nullable = true)\n",
      " |-- V162: double (nullable = true)\n",
      " |-- V163: double (nullable = true)\n",
      " |-- V164: double (nullable = true)\n",
      " |-- V165: double (nullable = true)\n",
      " |-- V166: double (nullable = true)\n",
      " |-- V167: double (nullable = true)\n",
      " |-- V168: double (nullable = true)\n",
      " |-- V169: double (nullable = true)\n",
      " |-- V170: double (nullable = true)\n",
      " |-- V171: double (nullable = true)\n",
      " |-- V172: double (nullable = true)\n",
      " |-- V173: double (nullable = true)\n",
      " |-- V174: double (nullable = true)\n",
      " |-- V175: double (nullable = true)\n",
      " |-- V176: double (nullable = true)\n",
      " |-- V177: double (nullable = true)\n",
      " |-- V178: double (nullable = true)\n",
      " |-- V179: double (nullable = true)\n",
      " |-- V180: double (nullable = true)\n",
      " |-- V181: double (nullable = true)\n",
      " |-- V182: double (nullable = true)\n",
      " |-- V183: double (nullable = true)\n",
      " |-- V184: double (nullable = true)\n",
      " |-- V185: double (nullable = true)\n",
      " |-- V186: double (nullable = true)\n",
      " |-- V187: double (nullable = true)\n",
      " |-- V188: double (nullable = true)\n",
      " |-- V189: double (nullable = true)\n",
      " |-- V190: double (nullable = true)\n",
      " |-- V191: double (nullable = true)\n",
      " |-- V192: double (nullable = true)\n",
      " |-- V193: double (nullable = true)\n",
      " |-- V194: double (nullable = true)\n",
      " |-- V195: double (nullable = true)\n",
      " |-- V196: double (nullable = true)\n",
      " |-- V197: double (nullable = true)\n",
      " |-- V198: double (nullable = true)\n",
      " |-- V199: double (nullable = true)\n",
      " |-- V200: double (nullable = true)\n",
      " |-- V201: double (nullable = true)\n",
      " |-- V202: double (nullable = true)\n",
      " |-- V203: double (nullable = true)\n",
      " |-- V204: double (nullable = true)\n",
      " |-- V205: double (nullable = true)\n",
      " |-- V206: double (nullable = true)\n",
      " |-- V207: double (nullable = true)\n",
      " |-- V208: double (nullable = true)\n",
      " |-- V209: double (nullable = true)\n",
      " |-- V210: double (nullable = true)\n",
      " |-- V211: double (nullable = true)\n",
      " |-- V212: double (nullable = true)\n",
      " |-- V213: double (nullable = true)\n",
      " |-- V214: double (nullable = true)\n",
      " |-- V215: double (nullable = true)\n",
      " |-- V216: double (nullable = true)\n",
      " |-- V217: double (nullable = true)\n",
      " |-- V218: double (nullable = true)\n",
      " |-- V219: double (nullable = true)\n",
      " |-- V220: double (nullable = true)\n",
      " |-- V221: double (nullable = true)\n",
      " |-- V222: double (nullable = true)\n",
      " |-- V223: double (nullable = true)\n",
      " |-- V224: double (nullable = true)\n",
      " |-- V225: double (nullable = true)\n",
      " |-- V226: double (nullable = true)\n",
      " |-- V227: double (nullable = true)\n",
      " |-- V228: double (nullable = true)\n",
      " |-- V229: double (nullable = true)\n",
      " |-- V230: double (nullable = true)\n",
      " |-- V231: double (nullable = true)\n",
      " |-- V232: double (nullable = true)\n",
      " |-- V233: double (nullable = true)\n",
      " |-- V234: double (nullable = true)\n",
      " |-- V235: double (nullable = true)\n",
      " |-- V236: double (nullable = true)\n",
      " |-- V237: double (nullable = true)\n",
      " |-- V238: double (nullable = true)\n",
      " |-- V239: double (nullable = true)\n",
      " |-- V240: double (nullable = true)\n",
      " |-- V241: double (nullable = true)\n",
      " |-- V242: double (nullable = true)\n",
      " |-- V243: double (nullable = true)\n",
      " |-- V244: double (nullable = true)\n",
      " |-- V245: double (nullable = true)\n",
      " |-- V246: double (nullable = true)\n",
      " |-- V247: double (nullable = true)\n",
      " |-- V248: double (nullable = true)\n",
      " |-- V249: double (nullable = true)\n",
      " |-- V250: double (nullable = true)\n",
      " |-- V251: double (nullable = true)\n",
      " |-- V252: double (nullable = true)\n",
      " |-- V253: double (nullable = true)\n",
      " |-- V254: double (nullable = true)\n",
      " |-- V255: double (nullable = true)\n",
      " |-- V256: double (nullable = true)\n",
      " |-- V257: double (nullable = true)\n",
      "\n"
     ]
    }
   ],
   "source": [
    "df_spark = spark.createDataFrame(df)\n",
    "df_spark.printSchema() # print detail schema of data"
   ]
  },
  {
   "cell_type": "code",
   "execution_count": null,
   "metadata": {
    "colab": {
     "base_uri": "https://localhost:8080/"
    },
    "id": "xWOAVyVDvbal",
    "outputId": "91172b14-ef99-41cb-ba53-270ad59936ca"
   },
   "outputs": [
    {
     "name": "stdout",
     "output_type": "stream",
     "text": [
      "+------+----+----+----+------+------+------+------+------+------+------+------+------+------+-----+------+----+----+----+----+------+------+-----+------+------+------+------+------+-----+------+------+-----+----+----+----+----+------+------+-----+------+------+------+------+------+------+----+------+-----+------+----+----+----+------+------+------+------+------+-----+------+------+------+------+------+-----+----+----+----+------+------+------+------+------+-----+------+------+------+------+------+------+------+----+----+----+------+------+-----+------+------+------+------+------+------+------+------+----+------+----+----+------+-----+------+------+------+------+-----+-----+------+------+------+------+-----+-----+------+----+------+------+------+------+------+------+-----+------+------+-----+------+------+------+----+------+----+----+------+------+------+------+------+------+------+------+------+------+------+------+------+------+------+------+------+------+------+------+------+-----+-----+------+------+------+-----+------+------+------+------+-----+------+------+-----+------+-----+------+------+------+------+------+------+------+------+------+-----+------+------+------+------+------+----+-----+------+------+------+-----+------+------+------+-----+------+------+-----+-----+------+------+------+------+-----+------+------+------+------+-----+------+-----+------+-----+------+------+------+-----+------+------+------+------+------+------+------+----+-----+-----+----+------+------+------+-----+------+------+-----+-----+------+-----+------+------+-----+------+-----+----+----+------+------+------+------+------+------+------+------+------+------+------+------+------+----+\n",
      "|Numero|  V2|  V3|  V4|    V5|    V6|    V7|    V8|    V9|   V10|   V11|   V12|   V13|   V14|  V15|   V16| V17| V18| V19| V20|   V21|   V22|  V23|   V24|   V25|   V26|   V27|   V28|  V29|   V30|   V31|  V32| V33| V34| V35| V36|   V37|   V38|  V39|   V40|   V41|   V42|   V43|   V44|   V45| V46|   V47|  V48|   V49| V50| V51| V52|   V53|   V54|   V55|   V56|   V57|  V58|   V59|   V60|   V61|   V62|   V63|  V64| V65| V66| V67|   V68|   V69|   V70|   V71|   V72|  V73|   V74|   V75|   V76|   V77|   V78|   V79|   V80| V81| V82| V83|   V84|   V85|  V86|   V87|   V88|   V89|   V90|   V91|   V92|   V93|   V94| V95|   V96| V97| V98|   V99| V100|  V101|  V102|  V103|  V104| V105| V106|  V107|  V108|  V109|  V110| V111| V112|  V113|V114|  V115|  V116|  V117|  V118|  V119|  V120| V121|  V122|  V123| V124|  V125|  V126|  V127|V128|  V129|V130|V131|  V132|  V133|  V134|  V135|  V136|  V137|  V138|  V139|  V140|  V141|  V142|  V143|  V144|  V145|  V146|  V147|  V148|  V149|  V150|  V151|  V152| V153| V154|  V155|  V156|  V157| V158|  V159|  V160|  V161|  V162| V163|  V164|  V165| V166|  V167| V168|  V169|  V170|  V171|  V172|  V173|  V174|  V175|  V176|  V177| V178|  V179|  V180|  V181|  V182|  V183|V184| V185|  V186|  V187|  V188| V189|  V190|  V191|  V192| V193|  V194|  V195| V196| V197|  V198|  V199|  V200|  V201| V202|  V203|  V204|  V205|  V206| V207|  V208| V209|  V210| V211|  V212|  V213|  V214| V215|  V216|  V217|  V218|  V219|  V220|  V221|  V222|V223| V224| V225|V226|  V227|  V228|  V229| V230|  V231|  V232| V233| V234|  V235| V236|  V237|  V238| V239|  V240| V241|V242|V243|  V244|  V245|  V246|  V247|  V248|  V249|  V250|  V251|  V252|  V253|  V254|  V255|  V256|V257|\n",
      "+------+----+----+----+------+------+------+------+------+------+------+------+------+------+-----+------+----+----+----+----+------+------+-----+------+------+------+------+------+-----+------+------+-----+----+----+----+----+------+------+-----+------+------+------+------+------+------+----+------+-----+------+----+----+----+------+------+------+------+------+-----+------+------+------+------+------+-----+----+----+----+------+------+------+------+------+-----+------+------+------+------+------+------+------+----+----+----+------+------+-----+------+------+------+------+------+------+------+------+----+------+----+----+------+-----+------+------+------+------+-----+-----+------+------+------+------+-----+-----+------+----+------+------+------+------+------+------+-----+------+------+-----+------+------+------+----+------+----+----+------+------+------+------+------+------+------+------+------+------+------+------+------+------+------+------+------+------+------+------+------+-----+-----+------+------+------+-----+------+------+------+------+-----+------+------+-----+------+-----+------+------+------+------+------+------+------+------+------+-----+------+------+------+------+------+----+-----+------+------+------+-----+------+------+------+-----+------+------+-----+-----+------+------+------+------+-----+------+------+------+------+-----+------+-----+------+-----+------+------+------+-----+------+------+------+------+------+------+------+----+-----+-----+----+------+------+------+-----+------+------+-----+-----+------+-----+------+------+-----+------+-----+----+----+------+------+------+------+------+------+------+------+------+------+------+------+------+----+\n",
      "|     6|-1.0|-1.0|-1.0|  -1.0|  -1.0|  -1.0|  -1.0|-0.631| 0.862|-0.167|  -1.0|  -1.0|  -1.0| -1.0|  -1.0|-1.0|-1.0|-1.0|-1.0|  -1.0|  -1.0| -1.0|-0.992| 0.297|   1.0| 0.307|  -1.0| -1.0|  -1.0|  -1.0| -1.0|-1.0|-1.0|-1.0|-1.0|  -1.0|  -1.0| -1.0| -0.41|   1.0| 0.986|-0.565|  -1.0|  -1.0|-1.0|  -1.0| -1.0|  -1.0|-1.0|-1.0|-1.0|  -1.0|  -1.0|-0.683| 0.825|   1.0|0.562|  -1.0|  -1.0|  -1.0|  -1.0|  -1.0| -1.0|-1.0|-1.0|-1.0|  -1.0|  -1.0|-0.938|  0.54|   1.0|0.778|-0.715|  -1.0|  -1.0|  -1.0|  -1.0|  -1.0|  -1.0|-1.0|-1.0|-1.0|  -1.0|  -1.0|  0.1|   1.0| 0.922|-0.439|  -1.0|  -1.0|  -1.0|  -1.0|  -1.0|-1.0|  -1.0|-1.0|-1.0|  -1.0| -1.0|-0.257|  0.95|   1.0|-0.162| -1.0| -1.0|  -1.0|-0.987|-0.714|-0.832| -1.0| -1.0|  -1.0|-1.0|  -1.0|-0.797| 0.909|   1.0|   0.3|-0.961| -1.0|  -1.0| -0.55|0.485| 0.996| 0.867| 0.092|-1.0|  -1.0|-1.0|-1.0| 0.278|   1.0| 0.877|-0.824|  -1.0|-0.905| 0.145| 0.977|   1.0|   1.0|   1.0|  0.99|-0.745|  -1.0|  -1.0| -0.95| 0.847|   1.0| 0.327|  -1.0|  -1.0|0.355|  1.0| 0.655|-0.109|-0.185|  1.0| 0.988|-0.723|  -1.0|  -1.0|-0.63|   1.0|   1.0|0.068|-0.925|0.113|  0.96| 0.308|-0.884|  -1.0|-0.075|   1.0| 0.641|-0.995|  -1.0| -1.0|-0.677|   1.0|   1.0| 0.753| 0.341| 1.0|0.707|-0.942|  -1.0|  -1.0|0.545|   1.0| 0.027|  -1.0| -1.0|  -1.0|-0.903|0.792|  1.0|   1.0|   1.0|   1.0| 0.536|0.184| 0.812| 0.837| 0.978| 0.864|-0.63|  -1.0| -1.0|  -1.0| -1.0|-0.452| 0.828|   1.0|  1.0|   1.0|   1.0|   1.0|   1.0|   1.0|   1.0| 0.135|-1.0| -1.0| -1.0|-1.0|  -1.0|  -1.0|-0.483|0.813|   1.0|   1.0|  1.0|  1.0|   1.0|  1.0| 0.219|-0.943| -1.0|  -1.0| -1.0|-1.0|-1.0|  -1.0|  -1.0|-0.974|-0.429| 0.304| 0.823|   1.0| 0.482|-0.474|-0.991|  -1.0|  -1.0|  -1.0|-1.0|\n",
      "|     5|-1.0|-1.0|-1.0|-0.813|-0.671|-0.809|-0.887|-0.671|-0.853|  -1.0|  -1.0|-0.774| -0.18|0.052|-0.241|-1.0|-1.0|-1.0|-1.0| 0.392|   1.0|0.857| 0.727|   1.0| 0.805| 0.613| 0.613| 0.86|   1.0|   1.0|0.396|-1.0|-1.0|-1.0|-1.0|-0.548|   1.0|  1.0|   1.0|   1.0|   1.0|   1.0|   1.0|   1.0| 1.0|   1.0|0.875|-0.957|-1.0|-1.0|-1.0|-0.786| 0.961|   1.0|   1.0|   1.0|0.727| 0.403| 0.403| 0.171|-0.314|-0.314|-0.94|-1.0|-1.0|-1.0|  -1.0|-0.298|   1.0|   1.0|   1.0| 0.44| 0.056|-0.755|  -1.0|  -1.0|  -1.0|  -1.0|  -1.0|-1.0|-1.0|-1.0|  -1.0| 0.366|  1.0|   1.0|   1.0|   1.0|   1.0| 0.889|-0.081| -0.92|  -1.0|-1.0|  -1.0|-1.0|-1.0|  -1.0| -1.0|-0.396| 0.886| 0.974| 0.851|0.851| 0.95|   1.0|   1.0| 0.539|-0.754| -1.0| -1.0|  -1.0|-1.0|  -1.0|  -1.0|  -1.0|-0.886|-0.505|  -1.0| -1.0|-0.649| 0.405|  1.0|   1.0| 0.653|-0.838|-1.0|  -1.0|-1.0|-1.0|  -1.0|  -1.0|  -1.0|  -1.0|  -1.0|  -1.0|  -1.0|  -1.0| -0.55| 0.993|   1.0| 0.618|-0.869|  -1.0| -0.96|-0.512| 0.134|-0.343|-0.796|  -1.0|  -1.0| -1.0| -1.0|  -1.0|  -1.0|-0.432|0.994|   1.0| 0.223|  -1.0| 0.426|  1.0|   1.0|   1.0|0.214|  -1.0| -1.0|  -1.0|  -1.0|  -1.0|  -1.0|  -1.0| 0.292|   1.0| 0.967| -0.88|0.449|   1.0| 0.896|-0.094| -0.75|  -1.0|-1.0| -1.0|  -1.0|  -1.0|  -1.0| -1.0|-0.627|   1.0|   1.0|0.198|-0.105|   1.0|  1.0|  1.0| 0.639|-0.168|-0.314|-0.446| -1.0|  -1.0|-0.999|-0.337| 0.147|0.996|   1.0|0.667|-0.808|0.065| 0.993|   1.0|   1.0|  1.0|   1.0| 0.996|  0.97|  0.97|  0.97| 0.998|   1.0| 1.0|  1.0|0.109|-1.0|  -1.0| -0.83|-0.242| 0.35|   0.8|   1.0|  1.0|  1.0|   1.0|  1.0|   1.0|   1.0|  1.0| 0.616|-0.93|-1.0|-1.0|  -1.0|  -1.0|  -1.0|-0.858|-0.671|-0.671|-0.033| 0.761| 0.762| 0.126|-0.095|-0.671|-0.828|-1.0|\n",
      "|     4|-1.0|-1.0|-1.0|  -1.0|  -1.0|  -1.0|  -1.0|  -1.0|  -1.0|-0.996| 0.147|   1.0|-0.189| -1.0|  -1.0|-1.0|-1.0|-1.0|-1.0|  -1.0|  -1.0| -1.0|  -1.0|  -1.0|  -1.0|-0.882|   1.0| 0.39|-0.811|  -1.0| -1.0|-1.0|-1.0|-1.0|-1.0|  -1.0|  -1.0| -1.0|  -1.0|  -1.0|  -1.0|-0.715|   1.0| 0.029|-1.0|  -1.0| -1.0|  -1.0|-1.0|-1.0|-1.0|  -1.0|-0.888|-0.912|  -1.0|  -1.0| -1.0|-0.549|   1.0| 0.361|  -1.0|  -1.0| -1.0|-1.0|-1.0|-1.0|  -1.0|-0.938| 0.694| 0.057|  -1.0| -1.0|  -1.0|-0.382|   1.0| 0.511|  -1.0|  -1.0|  -1.0|-1.0|-1.0|-1.0|  -1.0|-0.311|  1.0|-0.043|  -1.0|  -1.0|  -1.0|-0.648|   1.0| 0.644|  -1.0|-1.0|  -1.0|-1.0|-1.0|  -1.0| -1.0| 0.489|   1.0|-0.493|  -1.0| -1.0| -1.0|-0.564|   1.0| 0.693|  -1.0| -1.0| -1.0|  -1.0|-1.0|  -1.0|-0.966| 0.988|   1.0|-0.893|  -1.0| -1.0|  -1.0|-0.397|  1.0| 0.903|-0.977|  -1.0|-1.0|  -1.0|-1.0|-1.0|-0.559|   1.0|   1.0|-0.297|  -1.0|  -1.0|  -1.0|-0.611|   1.0| 0.873|-0.698|-0.552|  -1.0|  -1.0|  -1.0|  -1.0|-0.126|   1.0|   1.0| 0.766|-0.764| -1.0| -1.0|-0.577|   1.0| 0.933|0.484|-0.197|  -1.0|  -1.0|  -1.0| -1.0|-0.818|-0.355|0.334|   1.0|0.868|-0.289|-0.677|-0.596|   1.0|   1.0|   1.0|-0.581|  -1.0|  -1.0| -1.0|  -1.0|  -1.0|  -1.0|-0.954| 0.118| 1.0|  1.0|   1.0|   1.0|   1.0|0.973|-0.092|-0.995|  -1.0| -1.0|  -1.0|  -1.0| -1.0| -1.0|  -1.0|-0.993|-0.464| 0.046| 0.29| 0.457|   1.0| 0.721|  -1.0| -1.0|  -1.0| -1.0|  -1.0| -1.0|  -1.0|  -1.0|  -1.0| -1.0|  -1.0|  -1.0|  -1.0|-0.426|   1.0| 0.555|  -1.0|-1.0| -1.0| -1.0|-1.0|  -1.0|  -1.0|  -1.0| -1.0|  -1.0|  -1.0| -1.0| -1.0| 0.024|  1.0| 0.388|  -1.0| -1.0|  -1.0| -1.0|-1.0|-1.0|  -1.0|  -1.0|  -1.0|  -1.0|  -1.0|  -1.0|  -1.0|-0.109|   1.0|-0.179|  -1.0|  -1.0|  -1.0|-1.0|\n",
      "|     7|-1.0|-1.0|-1.0|  -1.0|  -1.0|-0.273| 0.684|  0.96|  0.45|-0.067|-0.679|  -1.0|  -1.0| -1.0|  -1.0|-1.0|-1.0|-1.0|-1.0|  -1.0|-0.114|0.974| 0.917| 0.734| 0.994|   1.0| 0.973|0.391|-0.421|-0.976| -1.0|-1.0|-1.0|-1.0|-1.0|-0.323| 0.991|0.622|-0.738|  -1.0|-0.639| 0.023| 0.871|   1.0| 1.0|-0.432| -1.0|  -1.0|-1.0|-1.0|-1.0| 0.409|   1.0|   0.0|  -1.0|  -1.0| -1.0|  -1.0|-0.842| 0.714|   1.0|-0.534| -1.0|-1.0|-1.0|-1.0|-0.879| 0.965|   1.0|-0.713|  -1.0| -1.0|  -1.0|  -1.0|-0.606| 0.977| 0.695|-0.906|  -1.0|-1.0|-1.0|-1.0|-0.528|   1.0|0.931|-0.888|  -1.0|  -1.0|  -1.0|-0.949| 0.559| 0.984|-0.363|-1.0|  -1.0|-1.0|-1.0|  -1.0|-0.97|-0.266|-0.555|  -1.0|  -1.0| -1.0| -1.0|-0.186|   1.0| 0.488|  -1.0| -1.0| -1.0|  -1.0|-1.0|  -1.0|  -1.0|  -1.0|  -1.0|  -1.0|  -1.0| -1.0|  -1.0| 0.697|0.992|-0.458|  -1.0|  -1.0|-1.0|  -1.0|-1.0|-1.0|  -1.0|  -1.0|  -1.0|  -1.0|  -1.0|  -1.0|-0.341|   1.0| 0.608|  -1.0|  -1.0|  -1.0|  -1.0|  -1.0|  -1.0|  -1.0|  -1.0|  -1.0|  -1.0|  -1.0|  -1.0| -1.0|0.471| 0.998|-0.416|  -1.0| -1.0|  -1.0|  -1.0|  -1.0|  -1.0| -1.0|  -1.0|  -1.0| -1.0|  -1.0| -1.0|-0.644| 0.963|  0.59|-0.999|  -1.0|  -1.0|  -1.0|  -1.0|  -1.0| -1.0|  -1.0|  -1.0|  -1.0|  -1.0|  -1.0|-1.0|0.061|   1.0|-0.079|  -1.0| -1.0|  -1.0|  -1.0|  -1.0| -1.0|  -1.0|  -1.0| -1.0| -1.0|  -1.0|  -1.0|  -1.0| 0.773|0.958|-0.714|  -1.0|  -1.0|  -1.0| -1.0|  -1.0| -1.0|  -1.0| -1.0|  -1.0|  -1.0|  -1.0| -1.0|-0.545| 0.989| 0.432|  -1.0|  -1.0|  -1.0|  -1.0|-1.0| -1.0| -1.0|-1.0|  -1.0|  -1.0|  -1.0| -1.0|  -1.0|-0.348|  1.0|0.798|-0.935| -1.0|  -1.0|  -1.0| -1.0|  -1.0| -1.0|-1.0|-1.0|  -1.0|  -1.0|  -1.0|  -1.0|-0.318|   1.0| 0.536|-0.987|  -1.0|  -1.0|  -1.0|  -1.0|  -1.0|-1.0|\n",
      "|     3|-1.0|-1.0|-1.0|  -1.0|  -1.0|-0.928|-0.204| 0.751| 0.466| 0.234|-0.809|  -1.0|  -1.0| -1.0|  -1.0|-1.0|-1.0|-1.0|-1.0|  -1.0| -0.37|0.739|   1.0|   1.0|   1.0|   1.0| 0.644|-0.89|  -1.0|  -1.0| -1.0|-1.0|-1.0|-1.0|-1.0|  -1.0| 0.616|  1.0| 0.688|-0.455|-0.731| 0.659|   1.0|-0.287|-1.0|  -1.0| -1.0|  -1.0|-1.0|-1.0|-1.0|  -1.0|-0.376|-0.186|-0.874|  -1.0| -1.0|-0.014|   1.0|-0.253|  -1.0|  -1.0| -1.0|-1.0|-1.0|-1.0|  -1.0|  -1.0|  -1.0|  -1.0|  -1.0| -1.0|-0.978| 0.501|   1.0| -0.54|  -1.0|  -1.0|  -1.0|-1.0|-1.0|-1.0|  -1.0|  -1.0| -1.0|-0.998|-0.341| 0.296| 0.371|   1.0| 0.417|-0.989|  -1.0|-1.0|  -1.0|-1.0|-1.0|  -1.0| -1.0|  -1.0|  -1.0|-0.008|   1.0|  1.0|  1.0|   1.0| 0.761|-0.731|  -1.0| -1.0| -1.0|  -1.0|-1.0|  -1.0|  -1.0|  -1.0|  -1.0| 0.242|   1.0|  1.0| 0.319| 0.259|  1.0| 0.742|-0.757|  -1.0|-1.0|  -1.0|-1.0|-1.0|  -1.0|  -1.0|  -1.0|-0.975|-0.467|-0.989|  -1.0|  -1.0|-0.171| 0.998| 0.669|-0.945|  -1.0|  -1.0|  -1.0|  -1.0|  -1.0|  -1.0|  -1.0|  -1.0|  -1.0| -1.0| -1.0|  -1.0|  -1.0| 0.228|  1.0| 0.038|  -1.0|  -1.0|  -1.0| -1.0|  -1.0|  -1.0| -1.0|  -1.0| -1.0|  -1.0|  -1.0|  -1.0|  -1.0|-0.826| 0.918| 0.933|-0.794|  -1.0| -1.0|  -1.0|-0.666| 0.337| 0.224|-0.908|-1.0| -1.0|  -1.0|  -1.0|  -1.0| -1.0| 0.418|   1.0|-0.258| -1.0|  -1.0|-0.246|  1.0|  1.0| 0.355|-0.958|  -1.0|  -1.0| -1.0|  -1.0|  -1.0|  -1.0|-0.077|  1.0| 0.344| -1.0|  -1.0|0.075|   1.0|   1.0| 0.649|0.256|  -0.2|-0.351|-0.733|-0.733|-0.733|-0.433| 0.649| 1.0|0.093| -1.0|-1.0|-0.959|-0.062| 0.821|  1.0|   1.0|   1.0|  1.0|  1.0|   1.0|  1.0|   1.0|   1.0|0.583|-0.843| -1.0|-1.0|-1.0|  -1.0|-0.877|-0.326| 0.174| 0.466| 0.639|   1.0|   1.0| 0.791| 0.439|-0.199|-0.883|  -1.0|-1.0|\n",
      "|     6|-1.0|-1.0|-1.0|  -1.0|  -1.0|-0.397| 0.983|-0.535|  -1.0|  -1.0|  -1.0|  -1.0|  -1.0| -1.0|  -1.0|-1.0|-1.0|-1.0|-1.0|  -1.0|  -1.0|0.692| 0.536|-0.767|  -1.0|  -1.0|  -1.0| -1.0|  -1.0|  -1.0| -1.0|-1.0|-1.0|-1.0|-1.0|  -1.0|-0.921|0.928|-0.118|  -1.0|  -1.0|  -1.0|  -1.0|  -1.0|-1.0|  -1.0| -1.0|  -1.0|-1.0|-1.0|-1.0|  -1.0|-0.394|   1.0|-0.596|  -1.0| -1.0|  -1.0|  -1.0|  -1.0|  -1.0|  -1.0| -1.0|-1.0|-1.0|-1.0|  -1.0|  -1.0|  0.06|   0.9|-0.951| -1.0|  -1.0|  -1.0|-0.647| 0.455|-0.333|  -1.0|  -1.0|-1.0|-1.0|-1.0|  -1.0|  -1.0|0.259| 0.676|  -1.0|  -1.0|  -1.0|-0.984| 0.677| 0.981| 0.551|-1.0|  -1.0|-1.0|-1.0|  -1.0| -1.0|-0.994| 0.699| 0.305|  -1.0| -1.0| -1.0|-0.499|   1.0|-0.092| 0.751| -1.0| -1.0|  -1.0|-1.0|  -1.0|  -1.0|-0.923| 0.966|-0.107|  -1.0| -1.0|  -1.0|  -0.3|0.854|-0.382| 0.617|  -1.0|-1.0|  -1.0|-1.0|-1.0|  -1.0|-0.409|   1.0|-0.529|  -1.0|  -1.0|  -1.0| 0.048| 0.614|-0.268| 0.544|  -1.0|  -1.0|  -1.0|  -1.0|  -1.0|  -1.0|  0.05| 0.971|-0.839|  -1.0| -1.0| -1.0| 0.172| 0.526|-0.003|0.307|  -1.0|  -1.0|  -1.0|  -1.0| -1.0|  -1.0| 0.398|0.459|  -1.0| -1.0|  -1.0|  -1.0| 0.372| 0.555|  0.52|-0.045|  -1.0|  -1.0|  -1.0| -1.0|  -1.0|  -1.0| 0.671| 0.176|  -1.0|-1.0| -1.0|  -1.0| 0.236| 0.934|0.971|-0.712|  -1.0|  -1.0| -1.0|  -1.0|  -1.0| -1.0|0.763| 0.084|  -1.0|  -1.0|  -1.0| -1.0| 0.073|   1.0| 0.265|  -1.0| -1.0|  -1.0| -1.0|  -1.0| -1.0|  -1.0| 0.563|  0.21| -1.0|  -1.0| -0.93|-0.127|  0.89| 0.935|-0.845|  -1.0|-1.0| -1.0| -1.0|-1.0|  -1.0|  -1.0| 0.093|0.793|-0.205| 0.214|0.746|0.918| 0.692|0.954|-0.882|  -1.0| -1.0|  -1.0| -1.0|-1.0|-1.0|  -1.0|-0.898| 0.323|   1.0| 0.803| 0.015|-0.862|-0.871|-0.437|  -1.0|  -1.0|  -1.0|  -1.0|-1.0|\n",
      "|     3|-1.0|-1.0|-1.0| -0.83| 0.442|   1.0|   1.0| 0.479|-0.328|-0.947|  -1.0|  -1.0|  -1.0| -1.0|  -1.0|-1.0|-1.0|-1.0|-1.0|-0.025| 0.519|0.124| 0.339| 0.762|   1.0| 0.456|-0.707| -1.0|  -1.0|  -1.0| -1.0|-1.0|-1.0|-1.0|-1.0|  -1.0|  -1.0| -1.0|  -1.0|-0.965|-0.086| 0.843| 0.681|-0.955|-1.0|  -1.0| -1.0|  -1.0|-1.0|-1.0|-1.0|  -1.0|  -1.0|  -1.0|  -1.0|  -1.0| -1.0|-0.467|   1.0|-0.279|  -1.0|  -1.0| -1.0|-1.0|-1.0|-1.0|  -1.0|  -1.0|  -1.0|  -1.0|  -1.0| -1.0|  -1.0|-0.719|   1.0|-0.203|  -1.0|  -1.0|  -1.0|-1.0|-1.0|-1.0|  -1.0|  -1.0| -1.0|  -1.0|  -1.0|  -1.0|-0.786| 0.504| 0.945|-0.801|  -1.0|-1.0|  -1.0|-1.0|-1.0|  -1.0| -1.0|  -1.0|  -1.0|  -1.0|-0.749|0.183|0.936|   1.0|-0.009|-0.955|  -1.0| -1.0| -1.0|  -1.0|-1.0|  -1.0|  -1.0|  -1.0|-0.731|  0.43| 0.965|  1.0|   1.0|   1.0|  1.0| 0.529|-0.847|  -1.0|-1.0|  -1.0|-1.0|-1.0|  -1.0|  -1.0|-0.256|  0.92| 0.655| 0.028| -0.36| -0.36|-0.305| 0.823| 0.214|  -1.0|  -1.0|  -1.0|  -1.0|  -1.0|  -1.0|  -1.0|  -1.0|  -1.0|  -1.0| -1.0| -1.0|  -1.0|  -1.0| 0.117| 0.87|  -1.0|  -1.0|  -1.0|  -1.0| -1.0|  -1.0|  -1.0| -1.0|  -1.0| -1.0|  -1.0|  -1.0|  -1.0|  -1.0| 0.247|  0.74|  -1.0|  -1.0|  -1.0| -1.0|  -1.0|  -1.0|-0.932|  -1.0|  -1.0|-1.0| -1.0|  -1.0|  -1.0|-0.966|0.694| 0.281|  -1.0|  -1.0| -1.0|  -1.0|  -1.0| -1.0|0.676|-0.952|  -1.0|  -1.0|  -1.0| -1.0|  -1.0| 0.036|   1.0|-0.537| -1.0|  -1.0| -1.0|  -1.0| -1.0|  -1.0| 0.929| -0.26| -1.0|  -1.0|  -1.0|-0.884| 0.135| 0.997| 0.214|-0.996|-1.0| -1.0| -1.0|-1.0|  -1.0|  -1.0| 0.056|0.957| 0.293|-0.013|0.387|0.851| 0.975|0.056|-0.979|  -1.0| -1.0|  -1.0| -1.0|-1.0|-1.0|  -1.0|-0.954|-0.166| 0.642|   1.0| 0.671| 0.345|-0.507|  -1.0|  -1.0|  -1.0|  -1.0|  -1.0|-1.0|\n",
      "|     1|-1.0|-1.0|-1.0|  -1.0|  -1.0|  -1.0|  -1.0|  0.51|-0.213|  -1.0|  -1.0|  -1.0|  -1.0| -1.0|  -1.0|-1.0|-1.0|-1.0|-1.0|  -1.0|  -1.0| -1.0|  -1.0| 0.292| 0.792|-0.987|  -1.0| -1.0|  -1.0|  -1.0| -1.0|-1.0|-1.0|-1.0|-1.0|  -1.0|  -1.0| -1.0|  -1.0|  0.56| 0.975|-0.873|  -1.0|  -1.0|-1.0|  -1.0| -1.0|  -1.0|-1.0|-1.0|-1.0|  -1.0|  -1.0|  -1.0|  -1.0| 0.745|0.999|-0.748|  -1.0|  -1.0|  -1.0|  -1.0| -1.0|-1.0|-1.0|-1.0|  -1.0|  -1.0|  -1.0|  -1.0|  -1.0|0.596|   1.0|-0.601|  -1.0|  -1.0|  -1.0|  -1.0|  -1.0|-1.0|-1.0|-1.0|  -1.0|  -1.0| -1.0|  -1.0|  -1.0| 0.714|   1.0|-0.585|  -1.0|  -1.0|  -1.0|-1.0|  -1.0|-1.0|-1.0|  -1.0| -1.0|  -1.0|  -1.0|  -1.0|-0.998|0.714|  1.0|-0.454|  -1.0|  -1.0|  -1.0| -1.0| -1.0|  -1.0|-1.0|  -1.0|  -1.0|  -1.0|  -1.0|  -1.0|-0.997|0.798|   1.0|-0.538| -1.0|  -1.0|  -1.0|  -1.0|-1.0|  -1.0|-1.0|-1.0|  -1.0|  -1.0|  -1.0|  -1.0|  -1.0| 0.402|   1.0| -0.39|  -1.0|  -1.0|  -1.0|  -1.0|  -1.0|  -1.0|  -1.0|  -1.0|  -1.0|  -1.0|  -1.0|  -1.0|  -1.0|0.354|  1.0|-0.142|  -1.0|  -1.0| -1.0|  -1.0|  -1.0|  -1.0|  -1.0| -1.0|  -1.0|  -1.0| -1.0|  -1.0| -1.0| 0.222|   1.0| -0.06|  -1.0|  -1.0|  -1.0|  -1.0|  -1.0|  -1.0| -1.0|  -1.0|  -1.0|  -1.0|  -1.0|  -1.0|-1.0| 0.34|   1.0|-0.211|  -1.0| -1.0|  -1.0|  -1.0|  -1.0| -1.0|  -1.0|  -1.0| -1.0| -1.0|  -1.0|  -1.0|  -1.0| 0.242|  1.0|-0.113|  -1.0|  -1.0|  -1.0| -1.0|  -1.0| -1.0|  -1.0| -1.0|  -1.0|  -1.0|  -1.0| -1.0|-0.967| 0.594|   1.0|-0.431|  -1.0|  -1.0|  -1.0|-1.0| -1.0| -1.0|-1.0|  -1.0|  -1.0|  -1.0| -1.0|  -1.0| -0.14|  1.0|0.989|-0.705| -1.0|  -1.0|  -1.0| -1.0|  -1.0| -1.0|-1.0|-1.0|  -1.0|  -1.0|  -1.0|  -1.0|-0.654| 0.666| 0.301|  -1.0|  -1.0|  -1.0|  -1.0|  -1.0|  -1.0|-1.0|\n",
      "|     0|-1.0|-1.0|-1.0|  -1.0|  -1.0|-0.454| 0.879|-0.745|  -1.0|  -1.0|  -1.0|  -1.0|  -1.0| -1.0|  -1.0|-1.0|-1.0|-1.0|-1.0|  -1.0|-0.716|0.804|   1.0|  0.42|-0.664|  -1.0|  -1.0| -1.0|  -1.0|  -1.0| -1.0|-1.0|-1.0|-1.0|-1.0|-0.978| 0.713|  1.0| 0.027| 0.408| 0.947|  0.56|-0.538|  -1.0|-1.0|  -1.0| -1.0|  -1.0|-1.0|-1.0|-1.0|-0.118|   1.0| 0.665|-0.902|-0.969|-0.36| 0.805| 0.987| 0.327|-0.797|  -1.0| -1.0|-1.0|-1.0|-1.0|-0.935| 0.764|   1.0|-0.367|  -1.0| -1.0|  -1.0|-0.914|-0.256| 0.833| 0.778| -0.22|-0.992|-1.0|-1.0|-1.0|-0.256|   1.0|0.538|-0.986|  -1.0|  -1.0|  -1.0|  -1.0|  -1.0|-0.837| 0.551| 1.0|-0.285|-1.0|-1.0|-0.936|0.844|   1.0|-0.263|  -1.0|  -1.0| -1.0| -1.0|  -1.0|  -1.0|  -1.0|-0.827|0.841|0.913|-0.948|-1.0|-0.145|   1.0| 0.765|-0.975|  -1.0|  -1.0| -1.0|  -1.0|  -1.0| -1.0|  -1.0|  -1.0|  0.23| 1.0|-0.617|-1.0|0.57|   1.0|-0.041|  -1.0|  -1.0|  -1.0|  -1.0|  -1.0|  -1.0|  -1.0|  -1.0|  -1.0| 0.179|   1.0|-0.566|-0.922| 0.939| 0.976|-0.865|  -1.0|  -1.0|  -1.0| -1.0| -1.0|  -1.0|  -1.0|  -1.0| -1.0|  0.36| 0.998|-0.779|-0.867|0.983| 0.656|-0.993| -1.0|  -1.0| -1.0|  -1.0|  -1.0|  -1.0|  -1.0|  -1.0|-0.936| 0.878| 0.878|-0.957| -0.6| 0.998| 0.415|  -1.0|  -1.0|  -1.0|-1.0| -1.0|  -1.0|  -1.0|  -1.0| -1.0|-0.277|   1.0| 0.273| -1.0|-0.783| 0.996|  0.6| -1.0|  -1.0|  -1.0|  -1.0|  -1.0| -1.0|  -1.0|-0.966|-0.438| 0.807|0.985|-0.526| -1.0|  -1.0|0.629| 0.912|-0.313|-0.882| -1.0|  -1.0|  -1.0|-0.899|-0.336| 0.382|   1.0| 0.988|0.19| -1.0| -1.0|-1.0|-0.796| 0.525|   1.0|0.979| 0.613| 0.613|0.613|0.884|   1.0|  1.0| 0.888|-0.089| -1.0|  -1.0| -1.0|-1.0|-1.0|-0.956|-0.283| 0.488|   1.0|   1.0|   1.0|   1.0| 0.506|-0.174|-0.811|  -1.0|  -1.0|  -1.0|-1.0|\n",
      "|     1|-1.0|-1.0|-1.0|  -1.0|  -1.0|  -1.0|  -1.0|-0.909| 0.801|-0.899|  -1.0|  -1.0|  -1.0| -1.0|  -1.0|-1.0|-1.0|-1.0|-1.0|  -1.0|  -1.0| -1.0|  -1.0|-0.405|   1.0|-0.396|  -1.0| -1.0|  -1.0|  -1.0| -1.0|-1.0|-1.0|-1.0|-1.0|  -1.0|  -1.0| -1.0|  -1.0|-0.072|   1.0|-0.468|  -1.0|  -1.0|-1.0|  -1.0| -1.0|  -1.0|-1.0|-1.0|-1.0|  -1.0|  -1.0|  -1.0|  -1.0| 0.057|  1.0|-0.623|  -1.0|  -1.0|  -1.0|  -1.0| -1.0|-1.0|-1.0|-1.0|  -1.0|  -1.0|  -1.0|  -1.0|  -1.0|0.288|   1.0|-0.683|  -1.0|  -1.0|  -1.0|  -1.0|  -1.0|-1.0|-1.0|-1.0|  -1.0|  -1.0| -1.0|  -1.0|  -1.0| 0.253|   1.0|-0.647|  -1.0|  -1.0|  -1.0|-1.0|  -1.0|-1.0|-1.0|  -1.0| -1.0|  -1.0|  -1.0|  -1.0|  -1.0|  0.3|  1.0|-0.593|  -1.0|  -1.0|  -1.0| -1.0| -1.0|  -1.0|-1.0|  -1.0|  -1.0|  -1.0|  -1.0|  -1.0|  -1.0|0.328| 0.997|-0.771| -1.0|  -1.0|  -1.0|  -1.0|-1.0|  -1.0|-1.0|-1.0|  -1.0|  -1.0|  -1.0|  -1.0|  -1.0| 0.661|   1.0|-0.706|  -1.0|  -1.0|  -1.0|  -1.0|  -1.0|  -1.0|  -1.0|  -1.0|  -1.0|  -1.0|  -1.0|  -1.0|  -1.0|0.752|0.991|-0.827|  -1.0|  -1.0| -1.0|  -1.0|  -1.0|  -1.0|  -1.0| -1.0|  -1.0|  -1.0| -1.0|  -1.0| -1.0|  0.59| 0.896|-0.963|  -1.0|  -1.0|  -1.0|  -1.0|  -1.0|  -1.0| -1.0|  -1.0|  -1.0|  -1.0|  -1.0|  -1.0|-1.0|0.224| 0.944|-0.887|  -1.0| -1.0|  -1.0|  -1.0|  -1.0| -1.0|  -1.0|  -1.0| -1.0| -1.0|  -1.0|  -1.0|  -1.0|-0.109|  1.0|-0.285|  -1.0|  -1.0|  -1.0| -1.0|  -1.0| -1.0|  -1.0| -1.0|  -1.0|  -1.0|  -1.0| -1.0|-0.754|-0.739| 0.993| 0.157|  -1.0|  -1.0|  -1.0|-1.0| -1.0| -1.0|-1.0|  -1.0|  -1.0|  -1.0| -1.0|  -1.0|-0.135|0.763|0.968| 0.421| -1.0|  -1.0|  -1.0| -1.0|  -1.0| -1.0|-1.0|-1.0|  -1.0|  -1.0|  -1.0|  -1.0|  -1.0|-0.332| 0.735|  0.38|  -1.0|  -1.0|  -1.0|  -1.0|  -1.0|-1.0|\n",
      "+------+----+----+----+------+------+------+------+------+------+------+------+------+------+-----+------+----+----+----+----+------+------+-----+------+------+------+------+------+-----+------+------+-----+----+----+----+----+------+------+-----+------+------+------+------+------+------+----+------+-----+------+----+----+----+------+------+------+------+------+-----+------+------+------+------+------+-----+----+----+----+------+------+------+------+------+-----+------+------+------+------+------+------+------+----+----+----+------+------+-----+------+------+------+------+------+------+------+------+----+------+----+----+------+-----+------+------+------+------+-----+-----+------+------+------+------+-----+-----+------+----+------+------+------+------+------+------+-----+------+------+-----+------+------+------+----+------+----+----+------+------+------+------+------+------+------+------+------+------+------+------+------+------+------+------+------+------+------+------+------+-----+-----+------+------+------+-----+------+------+------+------+-----+------+------+-----+------+-----+------+------+------+------+------+------+------+------+------+-----+------+------+------+------+------+----+-----+------+------+------+-----+------+------+------+-----+------+------+-----+-----+------+------+------+------+-----+------+------+------+------+-----+------+-----+------+-----+------+------+------+-----+------+------+------+------+------+------+------+----+-----+-----+----+------+------+------+-----+------+------+-----+-----+------+-----+------+------+-----+------+-----+----+----+------+------+------+------+------+------+------+------+------+------+------+------+------+----+\n",
      "only showing top 10 rows\n",
      "\n"
     ]
    }
   ],
   "source": [
    "df_spark.show(10)# show top 10 rows\n"
   ]
  },
  {
   "cell_type": "markdown",
   "metadata": {
    "id": "6tEA8BUPuipb"
   },
   "source": [
    "## EDA"
   ]
  },
  {
   "cell_type": "code",
   "execution_count": null,
   "metadata": {
    "colab": {
     "base_uri": "https://localhost:8080/"
    },
    "id": "R4Xnjr7b1EJT",
    "outputId": "78012afe-b08f-4607-c66f-c4687af405a5"
   },
   "outputs": [
    {
     "name": "stdout",
     "output_type": "stream",
     "text": [
      "(9298, 257)\n"
     ]
    }
   ],
   "source": [
    "# print rows and columns in spark like shape in pandas \n",
    "print((df_spark.count(), len(df_spark.columns)))"
   ]
  },
  {
   "cell_type": "code",
   "execution_count": null,
   "metadata": {
    "colab": {
     "base_uri": "https://localhost:8080/",
     "height": 479
    },
    "id": "oMGig4aSnHG-",
    "outputId": "9e961820-dc4a-47b6-eef2-0cfb9bb80266"
   },
   "outputs": [
    {
     "name": "stderr",
     "output_type": "stream",
     "text": [
      "/content/spark-2.4.8-bin-hadoop2.7/python/pyspark/sql/dataframe.py:2195: PerformanceWarning: DataFrame is highly fragmented.  This is usually the result of calling `frame.insert` many times, which has poor performance.  Consider joining all columns at once using pd.concat(axis=1) instead.  To get a de-fragmented frame, use `newframe = frame.copy()`\n",
      "  df[column_name] = series\n"
     ]
    },
    {
     "data": {
      "text/html": [
       "\n",
       "  <div id=\"df-f7a8921d-18e5-4137-89ba-6cd82ce9744d\">\n",
       "    <div class=\"colab-df-container\">\n",
       "      <div>\n",
       "<style scoped>\n",
       "    .dataframe tbody tr th:only-of-type {\n",
       "        vertical-align: middle;\n",
       "    }\n",
       "\n",
       "    .dataframe tbody tr th {\n",
       "        vertical-align: top;\n",
       "    }\n",
       "\n",
       "    .dataframe thead th {\n",
       "        text-align: right;\n",
       "    }\n",
       "</style>\n",
       "<table border=\"1\" class=\"dataframe\">\n",
       "  <thead>\n",
       "    <tr style=\"text-align: right;\">\n",
       "      <th></th>\n",
       "      <th>0</th>\n",
       "      <th>1</th>\n",
       "      <th>2</th>\n",
       "      <th>3</th>\n",
       "      <th>4</th>\n",
       "    </tr>\n",
       "  </thead>\n",
       "  <tbody>\n",
       "    <tr>\n",
       "      <th>summary</th>\n",
       "      <td>count</td>\n",
       "      <td>mean</td>\n",
       "      <td>stddev</td>\n",
       "      <td>min</td>\n",
       "      <td>max</td>\n",
       "    </tr>\n",
       "    <tr>\n",
       "      <th>Numero</th>\n",
       "      <td>9298</td>\n",
       "      <td>3.8920197892019788</td>\n",
       "      <td>3.001085957914094</td>\n",
       "      <td>0</td>\n",
       "      <td>9</td>\n",
       "    </tr>\n",
       "    <tr>\n",
       "      <th>V2</th>\n",
       "      <td>9298</td>\n",
       "      <td>-0.99645579694558</td>\n",
       "      <td>0.04981219362793142</td>\n",
       "      <td>-1.0</td>\n",
       "      <td>0.638</td>\n",
       "    </tr>\n",
       "    <tr>\n",
       "      <th>V3</th>\n",
       "      <td>9298</td>\n",
       "      <td>-0.9804442890944286</td>\n",
       "      <td>0.15520667281950365</td>\n",
       "      <td>-1.0</td>\n",
       "      <td>1.0</td>\n",
       "    </tr>\n",
       "    <tr>\n",
       "      <th>V4</th>\n",
       "      <td>9298</td>\n",
       "      <td>-0.9507168208216821</td>\n",
       "      <td>0.24451105530731612</td>\n",
       "      <td>-1.0</td>\n",
       "      <td>1.0</td>\n",
       "    </tr>\n",
       "    <tr>\n",
       "      <th>...</th>\n",
       "      <td>...</td>\n",
       "      <td>...</td>\n",
       "      <td>...</td>\n",
       "      <td>...</td>\n",
       "      <td>...</td>\n",
       "    </tr>\n",
       "    <tr>\n",
       "      <th>V253</th>\n",
       "      <td>9298</td>\n",
       "      <td>-0.8334556893955685</td>\n",
       "      <td>0.42293096618238757</td>\n",
       "      <td>-1.0</td>\n",
       "      <td>1.0</td>\n",
       "    </tr>\n",
       "    <tr>\n",
       "      <th>V254</th>\n",
       "      <td>9298</td>\n",
       "      <td>-0.920130458163045</td>\n",
       "      <td>0.3042018637009437</td>\n",
       "      <td>-1.0</td>\n",
       "      <td>1.0</td>\n",
       "    </tr>\n",
       "    <tr>\n",
       "      <th>V255</th>\n",
       "      <td>9298</td>\n",
       "      <td>-0.9580984082598407</td>\n",
       "      <td>0.22702954717518925</td>\n",
       "      <td>-1.0</td>\n",
       "      <td>1.0</td>\n",
       "    </tr>\n",
       "    <tr>\n",
       "      <th>V256</th>\n",
       "      <td>9298</td>\n",
       "      <td>-0.9803189933318991</td>\n",
       "      <td>0.15321552072378733</td>\n",
       "      <td>-1.0</td>\n",
       "      <td>1.0</td>\n",
       "    </tr>\n",
       "    <tr>\n",
       "      <th>V257</th>\n",
       "      <td>9298</td>\n",
       "      <td>-0.9949203054420306</td>\n",
       "      <td>0.06384598140312867</td>\n",
       "      <td>-1.0</td>\n",
       "      <td>0.592</td>\n",
       "    </tr>\n",
       "  </tbody>\n",
       "</table>\n",
       "<p>258 rows × 5 columns</p>\n",
       "</div>\n",
       "      <button class=\"colab-df-convert\" onclick=\"convertToInteractive('df-f7a8921d-18e5-4137-89ba-6cd82ce9744d')\"\n",
       "              title=\"Convert this dataframe to an interactive table.\"\n",
       "              style=\"display:none;\">\n",
       "        \n",
       "  <svg xmlns=\"http://www.w3.org/2000/svg\" height=\"24px\"viewBox=\"0 0 24 24\"\n",
       "       width=\"24px\">\n",
       "    <path d=\"M0 0h24v24H0V0z\" fill=\"none\"/>\n",
       "    <path d=\"M18.56 5.44l.94 2.06.94-2.06 2.06-.94-2.06-.94-.94-2.06-.94 2.06-2.06.94zm-11 1L8.5 8.5l.94-2.06 2.06-.94-2.06-.94L8.5 2.5l-.94 2.06-2.06.94zm10 10l.94 2.06.94-2.06 2.06-.94-2.06-.94-.94-2.06-.94 2.06-2.06.94z\"/><path d=\"M17.41 7.96l-1.37-1.37c-.4-.4-.92-.59-1.43-.59-.52 0-1.04.2-1.43.59L10.3 9.45l-7.72 7.72c-.78.78-.78 2.05 0 2.83L4 21.41c.39.39.9.59 1.41.59.51 0 1.02-.2 1.41-.59l7.78-7.78 2.81-2.81c.8-.78.8-2.07 0-2.86zM5.41 20L4 18.59l7.72-7.72 1.47 1.35L5.41 20z\"/>\n",
       "  </svg>\n",
       "      </button>\n",
       "      \n",
       "  <style>\n",
       "    .colab-df-container {\n",
       "      display:flex;\n",
       "      flex-wrap:wrap;\n",
       "      gap: 12px;\n",
       "    }\n",
       "\n",
       "    .colab-df-convert {\n",
       "      background-color: #E8F0FE;\n",
       "      border: none;\n",
       "      border-radius: 50%;\n",
       "      cursor: pointer;\n",
       "      display: none;\n",
       "      fill: #1967D2;\n",
       "      height: 32px;\n",
       "      padding: 0 0 0 0;\n",
       "      width: 32px;\n",
       "    }\n",
       "\n",
       "    .colab-df-convert:hover {\n",
       "      background-color: #E2EBFA;\n",
       "      box-shadow: 0px 1px 2px rgba(60, 64, 67, 0.3), 0px 1px 3px 1px rgba(60, 64, 67, 0.15);\n",
       "      fill: #174EA6;\n",
       "    }\n",
       "\n",
       "    [theme=dark] .colab-df-convert {\n",
       "      background-color: #3B4455;\n",
       "      fill: #D2E3FC;\n",
       "    }\n",
       "\n",
       "    [theme=dark] .colab-df-convert:hover {\n",
       "      background-color: #434B5C;\n",
       "      box-shadow: 0px 1px 3px 1px rgba(0, 0, 0, 0.15);\n",
       "      filter: drop-shadow(0px 1px 2px rgba(0, 0, 0, 0.3));\n",
       "      fill: #FFFFFF;\n",
       "    }\n",
       "  </style>\n",
       "\n",
       "      <script>\n",
       "        const buttonEl =\n",
       "          document.querySelector('#df-f7a8921d-18e5-4137-89ba-6cd82ce9744d button.colab-df-convert');\n",
       "        buttonEl.style.display =\n",
       "          google.colab.kernel.accessAllowed ? 'block' : 'none';\n",
       "\n",
       "        async function convertToInteractive(key) {\n",
       "          const element = document.querySelector('#df-f7a8921d-18e5-4137-89ba-6cd82ce9744d');\n",
       "          const dataTable =\n",
       "            await google.colab.kernel.invokeFunction('convertToInteractive',\n",
       "                                                     [key], {});\n",
       "          if (!dataTable) return;\n",
       "\n",
       "          const docLinkHtml = 'Like what you see? Visit the ' +\n",
       "            '<a target=\"_blank\" href=https://colab.research.google.com/notebooks/data_table.ipynb>data table notebook</a>'\n",
       "            + ' to learn more about interactive tables.';\n",
       "          element.innerHTML = '';\n",
       "          dataTable['output_type'] = 'display_data';\n",
       "          await google.colab.output.renderOutput(dataTable, element);\n",
       "          const docLink = document.createElement('div');\n",
       "          docLink.innerHTML = docLinkHtml;\n",
       "          element.appendChild(docLink);\n",
       "        }\n",
       "      </script>\n",
       "    </div>\n",
       "  </div>\n",
       "  "
      ],
      "text/plain": [
       "             0                    1                    2     3      4\n",
       "summary  count                 mean               stddev   min    max\n",
       "Numero    9298   3.8920197892019788    3.001085957914094     0      9\n",
       "V2        9298    -0.99645579694558  0.04981219362793142  -1.0  0.638\n",
       "V3        9298  -0.9804442890944286  0.15520667281950365  -1.0    1.0\n",
       "V4        9298  -0.9507168208216821  0.24451105530731612  -1.0    1.0\n",
       "...        ...                  ...                  ...   ...    ...\n",
       "V253      9298  -0.8334556893955685  0.42293096618238757  -1.0    1.0\n",
       "V254      9298   -0.920130458163045   0.3042018637009437  -1.0    1.0\n",
       "V255      9298  -0.9580984082598407  0.22702954717518925  -1.0    1.0\n",
       "V256      9298  -0.9803189933318991  0.15321552072378733  -1.0    1.0\n",
       "V257      9298  -0.9949203054420306  0.06384598140312867  -1.0  0.592\n",
       "\n",
       "[258 rows x 5 columns]"
      ]
     },
     "execution_count": 13,
     "metadata": {},
     "output_type": "execute_result"
    }
   ],
   "source": [
    "# Calculate statistical varables for columns \n",
    "df_spark.describe().toPandas().transpose()"
   ]
  },
  {
   "cell_type": "code",
   "execution_count": null,
   "metadata": {
    "colab": {
     "base_uri": "https://localhost:8080/"
    },
    "id": "cfFEQIAMKaAi",
    "outputId": "c3974cb6-1d4c-471c-afd7-d70d91474511"
   },
   "outputs": [
    {
     "name": "stdout",
     "output_type": "stream",
     "text": [
      "[('Numero', 'bigint'), ('V2', 'double'), ('V3', 'double'), ('V4', 'double'), ('V5', 'double'), ('V6', 'double'), ('V7', 'double'), ('V8', 'double'), ('V9', 'double'), ('V10', 'double'), ('V11', 'double'), ('V12', 'double'), ('V13', 'double'), ('V14', 'double'), ('V15', 'double'), ('V16', 'double'), ('V17', 'double'), ('V18', 'double'), ('V19', 'double'), ('V20', 'double'), ('V21', 'double'), ('V22', 'double'), ('V23', 'double'), ('V24', 'double'), ('V25', 'double'), ('V26', 'double'), ('V27', 'double'), ('V28', 'double'), ('V29', 'double'), ('V30', 'double'), ('V31', 'double'), ('V32', 'double'), ('V33', 'double'), ('V34', 'double'), ('V35', 'double'), ('V36', 'double'), ('V37', 'double'), ('V38', 'double'), ('V39', 'double'), ('V40', 'double'), ('V41', 'double'), ('V42', 'double'), ('V43', 'double'), ('V44', 'double'), ('V45', 'double'), ('V46', 'double'), ('V47', 'double'), ('V48', 'double'), ('V49', 'double'), ('V50', 'double'), ('V51', 'double'), ('V52', 'double'), ('V53', 'double'), ('V54', 'double'), ('V55', 'double'), ('V56', 'double'), ('V57', 'double'), ('V58', 'double'), ('V59', 'double'), ('V60', 'double'), ('V61', 'double'), ('V62', 'double'), ('V63', 'double'), ('V64', 'double'), ('V65', 'double'), ('V66', 'double'), ('V67', 'double'), ('V68', 'double'), ('V69', 'double'), ('V70', 'double'), ('V71', 'double'), ('V72', 'double'), ('V73', 'double'), ('V74', 'double'), ('V75', 'double'), ('V76', 'double'), ('V77', 'double'), ('V78', 'double'), ('V79', 'double'), ('V80', 'double'), ('V81', 'double'), ('V82', 'double'), ('V83', 'double'), ('V84', 'double'), ('V85', 'double'), ('V86', 'double'), ('V87', 'double'), ('V88', 'double'), ('V89', 'double'), ('V90', 'double'), ('V91', 'double'), ('V92', 'double'), ('V93', 'double'), ('V94', 'double'), ('V95', 'double'), ('V96', 'double'), ('V97', 'double'), ('V98', 'double'), ('V99', 'double'), ('V100', 'double'), ('V101', 'double'), ('V102', 'double'), ('V103', 'double'), ('V104', 'double'), ('V105', 'double'), ('V106', 'double'), ('V107', 'double'), ('V108', 'double'), ('V109', 'double'), ('V110', 'double'), ('V111', 'double'), ('V112', 'double'), ('V113', 'double'), ('V114', 'double'), ('V115', 'double'), ('V116', 'double'), ('V117', 'double'), ('V118', 'double'), ('V119', 'double'), ('V120', 'double'), ('V121', 'double'), ('V122', 'double'), ('V123', 'double'), ('V124', 'double'), ('V125', 'double'), ('V126', 'double'), ('V127', 'double'), ('V128', 'double'), ('V129', 'double'), ('V130', 'double'), ('V131', 'double'), ('V132', 'double'), ('V133', 'double'), ('V134', 'double'), ('V135', 'double'), ('V136', 'double'), ('V137', 'double'), ('V138', 'double'), ('V139', 'double'), ('V140', 'double'), ('V141', 'double'), ('V142', 'double'), ('V143', 'double'), ('V144', 'double'), ('V145', 'double'), ('V146', 'double'), ('V147', 'double'), ('V148', 'double'), ('V149', 'double'), ('V150', 'double'), ('V151', 'double'), ('V152', 'double'), ('V153', 'double'), ('V154', 'double'), ('V155', 'double'), ('V156', 'double'), ('V157', 'double'), ('V158', 'double'), ('V159', 'double'), ('V160', 'double'), ('V161', 'double'), ('V162', 'double'), ('V163', 'double'), ('V164', 'double'), ('V165', 'double'), ('V166', 'double'), ('V167', 'double'), ('V168', 'double'), ('V169', 'double'), ('V170', 'double'), ('V171', 'double'), ('V172', 'double'), ('V173', 'double'), ('V174', 'double'), ('V175', 'double'), ('V176', 'double'), ('V177', 'double'), ('V178', 'double'), ('V179', 'double'), ('V180', 'double'), ('V181', 'double'), ('V182', 'double'), ('V183', 'double'), ('V184', 'double'), ('V185', 'double'), ('V186', 'double'), ('V187', 'double'), ('V188', 'double'), ('V189', 'double'), ('V190', 'double'), ('V191', 'double'), ('V192', 'double'), ('V193', 'double'), ('V194', 'double'), ('V195', 'double'), ('V196', 'double'), ('V197', 'double'), ('V198', 'double'), ('V199', 'double'), ('V200', 'double'), ('V201', 'double'), ('V202', 'double'), ('V203', 'double'), ('V204', 'double'), ('V205', 'double'), ('V206', 'double'), ('V207', 'double'), ('V208', 'double'), ('V209', 'double'), ('V210', 'double'), ('V211', 'double'), ('V212', 'double'), ('V213', 'double'), ('V214', 'double'), ('V215', 'double'), ('V216', 'double'), ('V217', 'double'), ('V218', 'double'), ('V219', 'double'), ('V220', 'double'), ('V221', 'double'), ('V222', 'double'), ('V223', 'double'), ('V224', 'double'), ('V225', 'double'), ('V226', 'double'), ('V227', 'double'), ('V228', 'double'), ('V229', 'double'), ('V230', 'double'), ('V231', 'double'), ('V232', 'double'), ('V233', 'double'), ('V234', 'double'), ('V235', 'double'), ('V236', 'double'), ('V237', 'double'), ('V238', 'double'), ('V239', 'double'), ('V240', 'double'), ('V241', 'double'), ('V242', 'double'), ('V243', 'double'), ('V244', 'double'), ('V245', 'double'), ('V246', 'double'), ('V247', 'double'), ('V248', 'double'), ('V249', 'double'), ('V250', 'double'), ('V251', 'double'), ('V252', 'double'), ('V253', 'double'), ('V254', 'double'), ('V255', 'double'), ('V256', 'double'), ('V257', 'double')]\n"
     ]
    }
   ],
   "source": [
    "print(df_spark.dtypes)"
   ]
  },
  {
   "cell_type": "markdown",
   "metadata": {
    "id": "05tVnasszje-"
   },
   "source": [
    "# Processing"
   ]
  },
  {
   "cell_type": "markdown",
   "metadata": {
    "id": "RexHHecuzda8"
   },
   "source": [
    "## Compute correlation matrix to find which pixels are more definitive. TODO"
   ]
  },
  {
   "cell_type": "code",
   "execution_count": null,
   "metadata": {
    "colab": {
     "base_uri": "https://localhost:8080/"
    },
    "id": "xMBHViJUwMri",
    "outputId": "5c5e3806-bb7c-4ac5-a9e1-d75298612277"
   },
   "outputs": [
    {
     "name": "stdout",
     "output_type": "stream",
     "text": [
      "Correlation to Numero for  Numero 1.0\n",
      "Correlation to Numero for  V2 0.0272161296316061\n",
      "Correlation to Numero for  V3 0.0554368929666687\n",
      "Correlation to Numero for  V4 0.07226138572674856\n",
      "Correlation to Numero for  V5 0.07461866975747714\n",
      "Correlation to Numero for  V6 0.060046999075962004\n",
      "Correlation to Numero for  V7 0.031096385679508395\n",
      "Correlation to Numero for  V8 -0.042996668486881086\n",
      "Correlation to Numero for  V9 -0.1420342109800146\n",
      "Correlation to Numero for  V10 0.10801182000213566\n",
      "Correlation to Numero for  V11 0.37615056925977175\n",
      "Correlation to Numero for  V12 0.40406217198203775\n",
      "Correlation to Numero for  V13 0.32745793296884396\n",
      "Correlation to Numero for  V14 0.23567713456794928\n",
      "Correlation to Numero for  V15 0.16718177881420937\n",
      "Correlation to Numero for  V16 0.10192444656321341\n",
      "Correlation to Numero for  V17 0.04790772440593295\n",
      "Correlation to Numero for  V18 0.04920994772384704\n",
      "Correlation to Numero for  V19 0.0748965251564197\n",
      "Correlation to Numero for  V20 0.0820768606266642\n",
      "Correlation to Numero for  V21 0.09175178303981982\n",
      "Correlation to Numero for  V22 0.09746524128389912\n",
      "Correlation to Numero for  V23 0.10926683790106224\n",
      "Correlation to Numero for  V24 0.07065741223413839\n",
      "Correlation to Numero for  V25 -0.10431356299025075\n",
      "Correlation to Numero for  V26 -0.059869033118590265\n",
      "Correlation to Numero for  V27 0.19966662042528777\n",
      "Correlation to Numero for  V28 0.3350329971430666\n",
      "Correlation to Numero for  V29 0.3777363793259245\n",
      "Correlation to Numero for  V30 0.30926885798209647\n",
      "Correlation to Numero for  V31 0.2221783442239697\n",
      "Correlation to Numero for  V32 0.1575497655819521\n",
      "Correlation to Numero for  V33 0.08452173781006757\n",
      "Correlation to Numero for  V34 0.044628877712585516\n",
      "Correlation to Numero for  V35 0.062323107267607175\n",
      "Correlation to Numero for  V36 0.07088662362975877\n",
      "Correlation to Numero for  V37 0.08705143911055206\n",
      "Correlation to Numero for  V38 0.1197468562941889\n",
      "Correlation to Numero for  V39 0.1267041252553463\n",
      "Correlation to Numero for  V40 -0.013945942224335317\n",
      "Correlation to Numero for  V41 -0.30327179487473377\n",
      "Correlation to Numero for  V42 -0.35668040739579715\n",
      "Correlation to Numero for  V43 -0.15923287980251158\n",
      "Correlation to Numero for  V44 0.06457303337482931\n",
      "Correlation to Numero for  V45 0.22396681119187983\n",
      "Correlation to Numero for  V46 0.25202348085882975\n",
      "Correlation to Numero for  V47 0.21463384953536777\n",
      "Correlation to Numero for  V48 0.16164308714888376\n",
      "Correlation to Numero for  V49 0.1022262925300066\n",
      "Correlation to Numero for  V50 0.029142786995189504\n",
      "Correlation to Numero for  V51 0.0378836906568959\n",
      "Correlation to Numero for  V52 0.02792293239822393\n",
      "Correlation to Numero for  V53 0.061862692296430086\n",
      "Correlation to Numero for  V54 0.10920579284169621\n",
      "Correlation to Numero for  V55 0.05291783669493644\n",
      "Correlation to Numero for  V56 -0.14142075929525721\n",
      "Correlation to Numero for  V57 -0.36994711072823594\n",
      "Correlation to Numero for  V58 -0.4179713954694187\n",
      "Correlation to Numero for  V59 -0.2494663167074908\n",
      "Correlation to Numero for  V60 -0.030678515385478815\n",
      "Correlation to Numero for  V61 0.09995735305984703\n",
      "Correlation to Numero for  V62 0.12502410914907428\n",
      "Correlation to Numero for  V63 0.11675814720184177\n",
      "Correlation to Numero for  V64 0.11573584004249021\n",
      "Correlation to Numero for  V65 0.08473835193851566\n",
      "Correlation to Numero for  V66 0.017705256113625466\n",
      "Correlation to Numero for  V67 -0.0064577374196793675\n",
      "Correlation to Numero for  V68 -0.03553627402446845\n",
      "Correlation to Numero for  V69 0.020809473508239976\n",
      "Correlation to Numero for  V70 0.07946886826561274\n",
      "Correlation to Numero for  V71 0.027441825233246644\n",
      "Correlation to Numero for  V72 -0.12252556680427824\n",
      "Correlation to Numero for  V73 -0.3269330550888788\n",
      "Correlation to Numero for  V74 -0.33158342433558957\n",
      "Correlation to Numero for  V75 -0.10870849430118593\n",
      "Correlation to Numero for  V76 0.08173752494169645\n",
      "Correlation to Numero for  V77 0.0933765447920696\n",
      "Correlation to Numero for  V78 0.015873701831945884\n",
      "Correlation to Numero for  V79 -0.0315605685761022\n",
      "Correlation to Numero for  V80 -0.012918329472857848\n",
      "Correlation to Numero for  V81 0.021775826494031095\n",
      "Correlation to Numero for  V82 -0.013409319173409536\n",
      "Correlation to Numero for  V83 -0.09438856993909082\n",
      "Correlation to Numero for  V84 -0.10999083782753818\n",
      "Correlation to Numero for  V85 -0.036552257703352076\n",
      "Correlation to Numero for  V86 0.07156453253935162\n",
      "Correlation to Numero for  V87 0.10895366834038846\n",
      "Correlation to Numero for  V88 0.008552476865699708\n",
      "Correlation to Numero for  V89 -0.18498728742465903\n",
      "Correlation to Numero for  V90 -0.15299571019736954\n",
      "Correlation to Numero for  V91 0.11232792146761487\n",
      "Correlation to Numero for  V92 0.2239591965702151\n",
      "Correlation to Numero for  V93 0.1123563277500751\n",
      "Correlation to Numero for  V94 -0.07257594800319593\n",
      "Correlation to Numero for  V95 -0.1756492296515079\n",
      "Correlation to Numero for  V96 -0.1749833234407337\n",
      "Correlation to Numero for  V97 -0.09031170966771292\n",
      "Correlation to Numero for  V98 -0.10164252466103571\n",
      "Correlation to Numero for  V99 -0.19056548220588693\n",
      "Correlation to Numero for  V100 -0.18955902932816562\n",
      "Correlation to Numero for  V101 -0.11083798293270215\n",
      "Correlation to Numero for  V102 0.05689320337529\n",
      "Correlation to Numero for  V103 0.1854989266237223\n",
      "Correlation to Numero for  V104 0.14988609614730025\n",
      "Correlation to Numero for  V105 -0.030338501019108895\n",
      "Correlation to Numero for  V106 0.004115973267978093\n",
      "Correlation to Numero for  V107 0.26193158797774846\n",
      "Correlation to Numero for  V108 0.32746864623529004\n",
      "Correlation to Numero for  V109 0.11845832599276523\n",
      "Correlation to Numero for  V110 -0.14128492002197834\n",
      "Correlation to Numero for  V111 -0.2771250034471248\n",
      "Correlation to Numero for  V112 -0.2811849540564917\n",
      "Correlation to Numero for  V113 -0.1926755698884445\n",
      "Correlation to Numero for  V114 -0.18936696046270834\n",
      "Correlation to Numero for  V115 -0.2570386760998646\n",
      "Correlation to Numero for  V116 -0.26092896130868615\n",
      "Correlation to Numero for  V117 -0.1681784610167375\n",
      "Correlation to Numero for  V118 0.013176697828270958\n",
      "Correlation to Numero for  V119 0.1841252714925731\n",
      "Correlation to Numero for  V120 0.18516025974806646\n",
      "Correlation to Numero for  V121 0.022628848758960377\n",
      "Correlation to Numero for  V122 0.06815352050100622\n",
      "Correlation to Numero for  V123 0.34612357503528235\n",
      "Correlation to Numero for  V124 0.36268107580419356\n",
      "Correlation to Numero for  V125 0.08120703735415936\n",
      "Correlation to Numero for  V126 -0.19744316195291364\n",
      "Correlation to Numero for  V127 -0.32458266813139947\n",
      "Correlation to Numero for  V128 -0.3194590305906445\n",
      "Correlation to Numero for  V129 -0.24288894206007713\n",
      "Correlation to Numero for  V130 -0.2375224262402401\n",
      "Correlation to Numero for  V131 -0.2961713472458802\n",
      "Correlation to Numero for  V132 -0.3139186819359029\n",
      "Correlation to Numero for  V133 -0.21931177304606433\n",
      "Correlation to Numero for  V134 -0.0499137744263264\n",
      "Correlation to Numero for  V135 0.12038118267329805\n",
      "Correlation to Numero for  V136 0.13881935843610296\n",
      "Correlation to Numero for  V137 0.009319174255822082\n",
      "Correlation to Numero for  V138 0.11345853679120792\n",
      "Correlation to Numero for  V139 0.4265598958457687\n",
      "Correlation to Numero for  V140 0.3632844925788731\n",
      "Correlation to Numero for  V141 0.02648701918228913\n",
      "Correlation to Numero for  V142 -0.23258717390771994\n",
      "Correlation to Numero for  V143 -0.3299567361913082\n",
      "Correlation to Numero for  V144 -0.3137867668020453\n",
      "Correlation to Numero for  V145 -0.2495078329424408\n",
      "Correlation to Numero for  V146 -0.2501639933754184\n",
      "Correlation to Numero for  V147 -0.31858660410214495\n",
      "Correlation to Numero for  V148 -0.34425625671018806\n",
      "Correlation to Numero for  V149 -0.2650279345519393\n",
      "Correlation to Numero for  V150 -0.1114143026416414\n",
      "Correlation to Numero for  V151 0.052287563318257305\n",
      "Correlation to Numero for  V152 0.05653544677998714\n",
      "Correlation to Numero for  V153 -0.04633303260355842\n",
      "Correlation to Numero for  V154 0.16273828578670657\n",
      "Correlation to Numero for  V155 0.48429498931326637\n",
      "Correlation to Numero for  V156 0.32904673581439287\n",
      "Correlation to Numero for  V157 -0.04013726370374358\n",
      "Correlation to Numero for  V158 -0.2535939140619609\n",
      "Correlation to Numero for  V159 -0.32839894543373616\n",
      "Correlation to Numero for  V160 -0.2959968472094007\n",
      "Correlation to Numero for  V161 -0.23380574226404818\n",
      "Correlation to Numero for  V162 -0.22786590738575252\n",
      "Correlation to Numero for  V163 -0.3198655703736551\n",
      "Correlation to Numero for  V164 -0.356628706568465\n",
      "Correlation to Numero for  V165 -0.2922040767723886\n",
      "Correlation to Numero for  V166 -0.14238045042215675\n",
      "Correlation to Numero for  V167 0.007266904863100191\n",
      "Correlation to Numero for  V168 -0.015739702658463185\n",
      "Correlation to Numero for  V169 -0.06960192491711169\n",
      "Correlation to Numero for  V170 0.20935139938471525\n",
      "Correlation to Numero for  V171 0.4638801956245443\n",
      "Correlation to Numero for  V172 0.2155272700425121\n",
      "Correlation to Numero for  V173 -0.12556266306694888\n",
      "Correlation to Numero for  V174 -0.28381861678378495\n",
      "Correlation to Numero for  V175 -0.3188795314775537\n",
      "Correlation to Numero for  V176 -0.27865770285677544\n",
      "Correlation to Numero for  V177 -0.20141597851374315\n",
      "Correlation to Numero for  V178 -0.17534468855841379\n",
      "Correlation to Numero for  V179 -0.29438751194952123\n",
      "Correlation to Numero for  V180 -0.3493162224002668\n",
      "Correlation to Numero for  V181 -0.307783962388834\n",
      "Correlation to Numero for  V182 -0.1710878432280033\n",
      "Correlation to Numero for  V183 -0.023585735962358596\n",
      "Correlation to Numero for  V184 -0.055911797405592\n",
      "Correlation to Numero for  V185 -0.05888565096817031\n",
      "Correlation to Numero for  V186 0.190607944564577\n",
      "Correlation to Numero for  V187 0.3157744351805848\n",
      "Correlation to Numero for  V188 0.025083744518774022\n",
      "Correlation to Numero for  V189 -0.21871237198173\n",
      "Correlation to Numero for  V190 -0.31127934513625516\n",
      "Correlation to Numero for  V191 -0.3083978027942412\n",
      "Correlation to Numero for  V192 -0.2502062242768472\n",
      "Correlation to Numero for  V193 -0.13819036222812395\n",
      "Correlation to Numero for  V194 -0.11817323462171367\n",
      "Correlation to Numero for  V195 -0.23146100934979336\n",
      "Correlation to Numero for  V196 -0.3134306111480839\n",
      "Correlation to Numero for  V197 -0.31725486970314665\n",
      "Correlation to Numero for  V198 -0.2223826166010534\n",
      "Correlation to Numero for  V199 -0.09247191016058283\n",
      "Correlation to Numero for  V200 -0.09405043742932086\n",
      "Correlation to Numero for  V201 -0.07266869732286108\n",
      "Correlation to Numero for  V202 0.07597830127462932\n",
      "Correlation to Numero for  V203 0.07289458253110483\n",
      "Correlation to Numero for  V204 -0.12690813509615717\n",
      "Correlation to Numero for  V205 -0.2642520332456183\n",
      "Correlation to Numero for  V206 -0.3126658765307402\n",
      "Correlation to Numero for  V207 -0.2757132630264208\n",
      "Correlation to Numero for  V208 -0.18863224247917035\n",
      "Correlation to Numero for  V209 -0.09161389931063035\n",
      "Correlation to Numero for  V210 -0.08787460203019982\n",
      "Correlation to Numero for  V211 -0.14607479590835357\n",
      "Correlation to Numero for  V212 -0.23754818514641896\n",
      "Correlation to Numero for  V213 -0.2957795407103794\n",
      "Correlation to Numero for  V214 -0.2681918619474028\n",
      "Correlation to Numero for  V215 -0.18141529865404127\n",
      "Correlation to Numero for  V216 -0.15554789945066808\n",
      "Correlation to Numero for  V217 -0.136775375142695\n",
      "Correlation to Numero for  V218 -0.08273947646014625\n",
      "Correlation to Numero for  V219 -0.09131132108410873\n",
      "Correlation to Numero for  V220 -0.17034021656057793\n",
      "Correlation to Numero for  V221 -0.24952885477599018\n",
      "Correlation to Numero for  V222 -0.2584422280966882\n",
      "Correlation to Numero for  V223 -0.19855039433863292\n",
      "Correlation to Numero for  V224 -0.12270288976226053\n",
      "Correlation to Numero for  V225 -0.08165613416876243\n",
      "Correlation to Numero for  V226 -0.0651838835386659\n",
      "Correlation to Numero for  V227 -0.09584828860189057\n",
      "Correlation to Numero for  V228 -0.1360398109869393\n",
      "Correlation to Numero for  V229 -0.1966526333254843\n",
      "Correlation to Numero for  V230 -0.22734780698927415\n",
      "Correlation to Numero for  V231 -0.17891406278248415\n",
      "Correlation to Numero for  V232 -0.0951425176065234\n",
      "Correlation to Numero for  V233 -0.08836957541380162\n",
      "Correlation to Numero for  V234 -0.10141867080860775\n",
      "Correlation to Numero for  V235 -0.10403968557676764\n",
      "Correlation to Numero for  V236 -0.14442661083684974\n",
      "Correlation to Numero for  V237 -0.17568753581317664\n",
      "Correlation to Numero for  V238 -0.14622490961626347\n",
      "Correlation to Numero for  V239 -0.10698390517412704\n",
      "Correlation to Numero for  V240 -0.08938044636425005\n",
      "Correlation to Numero for  V241 -0.07066574955918821\n",
      "Correlation to Numero for  V242 -0.0335681257461592\n",
      "Correlation to Numero for  V243 -0.056084770782395786\n",
      "Correlation to Numero for  V244 -0.0741862281020308\n",
      "Correlation to Numero for  V245 -0.09271018951755065\n",
      "Correlation to Numero for  V246 -0.11024336335923886\n",
      "Correlation to Numero for  V247 -0.10524334505899043\n",
      "Correlation to Numero for  V248 -0.015251662821201328\n",
      "Correlation to Numero for  V249 -0.0013590032804765672\n",
      "Correlation to Numero for  V250 -0.09821610747100326\n",
      "Correlation to Numero for  V251 -0.06356277936347586\n",
      "Correlation to Numero for  V252 -0.05335190679536772\n",
      "Correlation to Numero for  V253 -0.04304663443341567\n",
      "Correlation to Numero for  V254 -0.05572716733366931\n",
      "Correlation to Numero for  V255 -0.07027685077832833\n",
      "Correlation to Numero for  V256 -0.06594131413737847\n",
      "Correlation to Numero for  V257 -0.04706425491572934\n"
     ]
    }
   ],
   "source": [
    "# Correlation matrix between the input features and Number\n",
    "import six\n",
    "for i in df_spark.columns:\n",
    "    if not( isinstance(df_spark.select(i).take(1)[0][0], six.string_types)):\n",
    "        print( \"Correlation to Numero for \", i, df_spark.stat.corr('Numero',i))"
   ]
  },
  {
   "cell_type": "markdown",
   "metadata": {
    "id": "OLDwekcazzpI"
   },
   "source": [
    "## Is this a class balanced problem? Justify your answer."
   ]
  },
  {
   "cell_type": "code",
   "execution_count": null,
   "metadata": {
    "colab": {
     "base_uri": "https://localhost:8080/"
    },
    "id": "nAdOgiloiJnG",
    "outputId": "144d7dcb-8f45-4dd2-8841-c6773afcae6c"
   },
   "outputs": [
    {
     "name": "stdout",
     "output_type": "stream",
     "text": [
      "+------+-----+\n",
      "|Numero|count|\n",
      "+------+-----+\n",
      "|     5|  716|\n",
      "|     8|  708|\n",
      "|  null| 9298|\n",
      "|     3|  824|\n",
      "|     2|  929|\n",
      "|     0| 1553|\n",
      "|     7|  792|\n",
      "|     6|  834|\n",
      "|     9|  821|\n",
      "|     1| 1269|\n",
      "|     4|  852|\n",
      "+------+-----+\n",
      "\n"
     ]
    }
   ],
   "source": [
    "df_spark.cube('Numero').count().show()"
   ]
  },
  {
   "cell_type": "markdown",
   "metadata": {
    "id": "trABNsZRolrn"
   },
   "source": [
    "The classes are not entirely balanced. For example, the 0 class has 700, while 5 has 283. The difference between the heaviest and lightest classes is too large to be considered entirely balanced."
   ]
  },
  {
   "cell_type": "markdown",
   "metadata": {
    "id": "RoA45CuSz6Pr"
   },
   "source": [
    "## Use Decision Tree Algorithm  to generate predictive classification models for dataset ZipData 2020 (file ZipData_2020.csv. ) using 80 % of data for training and 20% for testing."
   ]
  },
  {
   "cell_type": "code",
   "execution_count": null,
   "metadata": {
    "id": "EVSqMt_Y7J57"
   },
   "outputs": [],
   "source": [
    "pixels = df_spark.drop('Numero').columns"
   ]
  },
  {
   "cell_type": "code",
   "execution_count": null,
   "metadata": {
    "colab": {
     "base_uri": "https://localhost:8080/"
    },
    "id": "xWFXNYntr-kb",
    "outputId": "73e211e9-6cda-400f-db5e-a0de1eec97b9"
   },
   "outputs": [
    {
     "name": "stdout",
     "output_type": "stream",
     "text": [
      "+--------------------+------+\n",
      "|            features|Numero|\n",
      "+--------------------+------+\n",
      "|[-1.0,-1.0,-1.0,-...|     6|\n",
      "|[-1.0,-1.0,-1.0,-...|     5|\n",
      "|[-1.0,-1.0,-1.0,-...|     4|\n",
      "+--------------------+------+\n",
      "only showing top 3 rows\n",
      "\n"
     ]
    }
   ],
   "source": [
    "# Spark support only two columns during training one for features and second one is labels\n",
    "# Vector Assembler is used to assemble all the features used for training \n",
    "# Class in the label where to train a Classification model for estimating the \n",
    "# bill is counterfeit or not\n",
    "from pyspark.ml.feature import VectorAssembler\n",
    "vectorAssembler = VectorAssembler(inputCols = pixels, outputCol = 'features')\n",
    "Counterfeit_df = vectorAssembler.transform(df_spark)\n",
    "Counterfeit_df= Counterfeit_df.select(['features', 'Numero'])\n",
    "Counterfeit_df.show(3)"
   ]
  },
  {
   "cell_type": "code",
   "execution_count": null,
   "metadata": {
    "id": "-F5BL7-GNoMw"
   },
   "outputs": [],
   "source": [
    "# Splitting data into training and testing 80% training and 20% testing\n",
    "weights = [.8, .2]\n",
    "#seed = 42 # seed=0L\n",
    "rawTrainData, rawValidationData = Counterfeit_df.randomSplit(weights)"
   ]
  },
  {
   "cell_type": "code",
   "execution_count": null,
   "metadata": {
    "colab": {
     "base_uri": "https://localhost:8080/"
    },
    "id": "VbAQ2Ev1ROcs",
    "outputId": "2e884aca-9075-473b-bb11-cb62ec62a28b"
   },
   "outputs": [
    {
     "name": "stdout",
     "output_type": "stream",
     "text": [
      "+--------------------+------+\n",
      "|            features|Numero|\n",
      "+--------------------+------+\n",
      "|[-1.0,-1.0,-1.0,-...|     2|\n",
      "|[-1.0,-1.0,-1.0,-...|     2|\n",
      "|[-1.0,-1.0,-1.0,-...|     2|\n",
      "|[-1.0,-1.0,-1.0,-...|     2|\n",
      "|[-1.0,-1.0,-1.0,-...|     2|\n",
      "|[-1.0,-1.0,-1.0,-...|     2|\n",
      "|[-1.0,-1.0,-1.0,-...|     2|\n",
      "|[-1.0,-1.0,-1.0,-...|     7|\n",
      "|[-1.0,-1.0,-1.0,-...|     3|\n",
      "|[-1.0,-1.0,-1.0,-...|     0|\n",
      "+--------------------+------+\n",
      "only showing top 10 rows\n",
      "\n"
     ]
    }
   ],
   "source": [
    "rawValidationData.show(10)"
   ]
  },
  {
   "cell_type": "code",
   "execution_count": null,
   "metadata": {
    "colab": {
     "base_uri": "https://localhost:8080/"
    },
    "id": "J1wfe2eCulJR",
    "outputId": "f3b6df76-3eb4-4069-a380-bb5f63c8e548"
   },
   "outputs": [
    {
     "name": "stdout",
     "output_type": "stream",
     "text": [
      "+----------+------+--------------------+\n",
      "|prediction|Numero|            features|\n",
      "+----------+------+--------------------+\n",
      "|       4.0|     2|[-1.0,-1.0,-1.0,-...|\n",
      "|       2.0|     2|[-1.0,-1.0,-1.0,-...|\n",
      "|       4.0|     2|[-1.0,-1.0,-1.0,-...|\n",
      "|       2.0|     2|[-1.0,-1.0,-1.0,-...|\n",
      "|       2.0|     2|[-1.0,-1.0,-1.0,-...|\n",
      "+----------+------+--------------------+\n",
      "only showing top 5 rows\n",
      "\n"
     ]
    }
   ],
   "source": [
    "# Training and testing the decision tree model \n",
    "from pyspark.ml.classification import DecisionTreeClassifier\n",
    "dt = DecisionTreeClassifier(featuresCol = 'features', labelCol='Numero')\n",
    "dt_model = dt.fit(rawTrainData)\n",
    "dt_predictions = dt_model.transform(rawValidationData)\n",
    "dt_predictions.select(\"prediction\",\"Numero\",\"features\").show(5)"
   ]
  },
  {
   "cell_type": "markdown",
   "metadata": {
    "id": "1Cxdqi1Dz-k2"
   },
   "source": [
    "## Generate a confusion table and calculate accuracy."
   ]
  },
  {
   "cell_type": "code",
   "execution_count": null,
   "metadata": {
    "colab": {
     "base_uri": "https://localhost:8080/"
    },
    "id": "aIsX138eYDWb",
    "outputId": "24ff7bd4-b15e-428a-8dc2-30962093842f"
   },
   "outputs": [
    {
     "name": "stdout",
     "output_type": "stream",
     "text": [
      "[[232   0   1   0   1   0   7   1  14   1]\n",
      " [  0 179   0   0   4   0   3   1   0  12]\n",
      " [ 14   1 104   1   7   2   8  10  10   5]\n",
      " [  6   0   2  70   3  10   1   2  15  15]\n",
      " [  0   2   4   0 100   1   2   1   2  21]\n",
      " [ 14   1   3   4   1  72   2   1   4   8]\n",
      " [  6   0   5   0   3   2 113   0   8   3]\n",
      " [  0   1   6   0   4   0   0 113   0  24]\n",
      " [  1   2   2   4   2   1  10   0  86   7]\n",
      " [  0   0   0   0   1   0   0   3   4 137]]\n"
     ]
    }
   ],
   "source": [
    "#Using sklearn for a classification report\n",
    "dt_predictions_sampled = dt_predictions.sample(0.8)\n",
    "y_true = dt_predictions_sampled.select(['Numero']).collect()\n",
    "y_pred = dt_predictions_sampled.select(['prediction']).collect()\n",
    "\n",
    "#Using Scikit Learn to evaluate\n",
    "from sklearn.metrics import classification_report, confusion_matrix, ConfusionMatrixDisplay\n",
    "print(confusion_matrix(y_true, y_pred))\n",
    "#print(classification_report(y_true, y_pred))"
   ]
  },
  {
   "cell_type": "code",
   "execution_count": null,
   "metadata": {
    "colab": {
     "base_uri": "https://localhost:8080/",
     "height": 296
    },
    "id": "VaAoHUS9e-Jn",
    "outputId": "8e89cadf-ca85-4cb9-87fa-393c9052a3b2"
   },
   "outputs": [
    {
     "data": {
      "text/plain": [
       "<sklearn.metrics._plot.confusion_matrix.ConfusionMatrixDisplay at 0x7f5f0e1ddf50>"
      ]
     },
     "execution_count": 22,
     "metadata": {},
     "output_type": "execute_result"
    },
    {
     "data": {
      "image/png": "[encoded data removed]",
      "text/plain": [
       "<Figure size 432x288 with 2 Axes>"
      ]
     },
     "metadata": {
      "needs_background": "light"
     },
     "output_type": "display_data"
    }
   ],
   "source": [
    "cm = confusion_matrix(y_true, y_pred)\n",
    "disp = ConfusionMatrixDisplay(confusion_matrix=cm)\n",
    "disp.plot()\n"
   ]
  },
  {
   "cell_type": "markdown",
   "metadata": {
    "id": "CaNM0tno0A-0"
   },
   "source": [
    "## Can you compute recall and sensitivity?"
   ]
  },
  {
   "cell_type": "code",
   "execution_count": null,
   "metadata": {
    "colab": {
     "base_uri": "https://localhost:8080/"
    },
    "id": "XrfHi4n9U9sP",
    "outputId": "5ff7dc4b-ffc4-4b1d-a004-2e524e2cd7b6"
   },
   "outputs": [
    {
     "name": "stdout",
     "output_type": "stream",
     "text": [
      "Test Error = 0.214434 \n",
      "Test Accuracy = 0.785566 \n",
      "Test F1 =  0.7863517659053675\n",
      "Test Weighted Precision =  0.8053877979056198\n",
      "Test Weighted Recall =  0.7855659397715472\n"
     ]
    }
   ],
   "source": [
    "#To find Area under the curve we will use the binary classificator\n",
    "#from pyspark.ml.evaluation import BinaryClassificationEvaluator\n",
    "#areaUnderROC_Test = BinaryClassificationEvaluator(metricName = 'areaUnderROC', labelCol=\"Numero\")\n",
    "#ART = areaUnderROC_Test.evaluate(dt_predictions)\n",
    "#print(\"Area Under Curve test\",ART)\n",
    "\n",
    "# Testing the trained logistic regression model\n",
    "from pyspark.ml.evaluation import MulticlassClassificationEvaluator\n",
    "# Select (prediction, true label) and compute test error\n",
    "evaluator = MulticlassClassificationEvaluator(\n",
    "    labelCol=\"Numero\", predictionCol=\"prediction\", metricName=\"accuracy\")\n",
    "accuracy = evaluator.evaluate(dt_predictions,{evaluator.metricName: \"accuracy\"})\n",
    "\n",
    "print(\"Test Error = %g \" % (1.0 - accuracy))\n",
    "print(\"Test Accuracy = %g \" % ( accuracy))\n",
    "print(\"Test F1 = \",evaluator.evaluate(dt_predictions, {evaluator.metricName: \"f1\"}))\n",
    "print(\"Test Weighted Precision = \",evaluator.evaluate(dt_predictions, {evaluator.metricName: \"weightedPrecision\"}))\n",
    "print(\"Test Weighted Recall = \",evaluator.evaluate(dt_predictions, {evaluator.metricName: \"weightedRecall\"}))\n",
    "print(\"Test Weighted Sensitivity = \",evaluator.evaluate(dt_predictions, {evaluator.metricName: \"weightedPrecision\"}))"
   ]
  }
 ],
 "metadata": {
  "colab": {
   "collapsed_sections": [],
   "name": "Classwork10.2.ipynb",
   "provenance": []
  },
  "kernelspec": {
   "display_name": "Python 3 (ipykernel)",
   "language": "python",
   "name": "python3"
  },
  "language_info": {
   "codemirror_mode": {
    "name": "ipython",
    "version": 3
   },
   "file_extension": ".py",
   "mimetype": "text/x-python",
   "name": "python",
   "nbconvert_exporter": "python",
   "pygments_lexer": "ipython3",
   "version": "3.7.11"
  }
 },
 "nbformat": 4,
 "nbformat_minor": 1
}
